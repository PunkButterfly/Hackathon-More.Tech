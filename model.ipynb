{
  "nbformat": 4,
  "nbformat_minor": 0,
  "metadata": {
    "colab": {
      "provenance": [],
      "collapsed_sections": [
        "ughrqxXX1sd8",
        "pU7YsWir3gb2",
        "8wk-rjicC6Fi",
        "gTFXjBqRDifS",
        "ToQD1tfh2qSS",
        "C9-Ph1tt22nS"
      ]
    },
    "kernelspec": {
      "name": "python3",
      "display_name": "Python 3"
    },
    "language_info": {
      "name": "python"
    },
    "accelerator": "GPU",
    "widgets": {
      "application/vnd.jupyter.widget-state+json": {
        "ebd37b95eac4442f9c4498b3a0682c17": {
          "model_module": "@jupyter-widgets/controls",
          "model_name": "HBoxModel",
          "model_module_version": "1.5.0",
          "state": {
            "_dom_classes": [],
            "_model_module": "@jupyter-widgets/controls",
            "_model_module_version": "1.5.0",
            "_model_name": "HBoxModel",
            "_view_count": null,
            "_view_module": "@jupyter-widgets/controls",
            "_view_module_version": "1.5.0",
            "_view_name": "HBoxView",
            "box_style": "",
            "children": [
              "IPY_MODEL_8c26f6b9c64b41788f73e6960bea6b32",
              "IPY_MODEL_d0a3eac0717b44899cc9c676d0a21692",
              "IPY_MODEL_dc49e60c11a444a2a18d5271051f0d92"
            ],
            "layout": "IPY_MODEL_9740d188c0f14616a5819ff9d5939535"
          }
        },
        "8c26f6b9c64b41788f73e6960bea6b32": {
          "model_module": "@jupyter-widgets/controls",
          "model_name": "HTMLModel",
          "model_module_version": "1.5.0",
          "state": {
            "_dom_classes": [],
            "_model_module": "@jupyter-widgets/controls",
            "_model_module_version": "1.5.0",
            "_model_name": "HTMLModel",
            "_view_count": null,
            "_view_module": "@jupyter-widgets/controls",
            "_view_module_version": "1.5.0",
            "_view_name": "HTMLView",
            "description": "",
            "description_tooltip": null,
            "layout": "IPY_MODEL_e880dffa61c64888859971e3f9c265b0",
            "placeholder": "​",
            "style": "IPY_MODEL_e799837508ea490b822cf6a1c46ed3f6",
            "value": "Getting insites...: 100%"
          }
        },
        "d0a3eac0717b44899cc9c676d0a21692": {
          "model_module": "@jupyter-widgets/controls",
          "model_name": "FloatProgressModel",
          "model_module_version": "1.5.0",
          "state": {
            "_dom_classes": [],
            "_model_module": "@jupyter-widgets/controls",
            "_model_module_version": "1.5.0",
            "_model_name": "FloatProgressModel",
            "_view_count": null,
            "_view_module": "@jupyter-widgets/controls",
            "_view_module_version": "1.5.0",
            "_view_name": "ProgressView",
            "bar_style": "success",
            "description": "",
            "description_tooltip": null,
            "layout": "IPY_MODEL_61462f09141547b69472d198f4bcb490",
            "max": 6,
            "min": 0,
            "orientation": "horizontal",
            "style": "IPY_MODEL_73b3c6012a724ad4804db00adbefab9d",
            "value": 6
          }
        },
        "dc49e60c11a444a2a18d5271051f0d92": {
          "model_module": "@jupyter-widgets/controls",
          "model_name": "HTMLModel",
          "model_module_version": "1.5.0",
          "state": {
            "_dom_classes": [],
            "_model_module": "@jupyter-widgets/controls",
            "_model_module_version": "1.5.0",
            "_model_name": "HTMLModel",
            "_view_count": null,
            "_view_module": "@jupyter-widgets/controls",
            "_view_module_version": "1.5.0",
            "_view_name": "HTMLView",
            "description": "",
            "description_tooltip": null,
            "layout": "IPY_MODEL_95139acb4d5d4c9981ae30d90b9da5ca",
            "placeholder": "​",
            "style": "IPY_MODEL_4cb1244dab3f4f36a10b72b14843e99e",
            "value": " 6/6 [02:21&lt;00:00, 22.89s/it]"
          }
        },
        "9740d188c0f14616a5819ff9d5939535": {
          "model_module": "@jupyter-widgets/base",
          "model_name": "LayoutModel",
          "model_module_version": "1.2.0",
          "state": {
            "_model_module": "@jupyter-widgets/base",
            "_model_module_version": "1.2.0",
            "_model_name": "LayoutModel",
            "_view_count": null,
            "_view_module": "@jupyter-widgets/base",
            "_view_module_version": "1.2.0",
            "_view_name": "LayoutView",
            "align_content": null,
            "align_items": null,
            "align_self": null,
            "border": null,
            "bottom": null,
            "display": null,
            "flex": null,
            "flex_flow": null,
            "grid_area": null,
            "grid_auto_columns": null,
            "grid_auto_flow": null,
            "grid_auto_rows": null,
            "grid_column": null,
            "grid_gap": null,
            "grid_row": null,
            "grid_template_areas": null,
            "grid_template_columns": null,
            "grid_template_rows": null,
            "height": null,
            "justify_content": null,
            "justify_items": null,
            "left": null,
            "margin": null,
            "max_height": null,
            "max_width": null,
            "min_height": null,
            "min_width": null,
            "object_fit": null,
            "object_position": null,
            "order": null,
            "overflow": null,
            "overflow_x": null,
            "overflow_y": null,
            "padding": null,
            "right": null,
            "top": null,
            "visibility": null,
            "width": null
          }
        },
        "e880dffa61c64888859971e3f9c265b0": {
          "model_module": "@jupyter-widgets/base",
          "model_name": "LayoutModel",
          "model_module_version": "1.2.0",
          "state": {
            "_model_module": "@jupyter-widgets/base",
            "_model_module_version": "1.2.0",
            "_model_name": "LayoutModel",
            "_view_count": null,
            "_view_module": "@jupyter-widgets/base",
            "_view_module_version": "1.2.0",
            "_view_name": "LayoutView",
            "align_content": null,
            "align_items": null,
            "align_self": null,
            "border": null,
            "bottom": null,
            "display": null,
            "flex": null,
            "flex_flow": null,
            "grid_area": null,
            "grid_auto_columns": null,
            "grid_auto_flow": null,
            "grid_auto_rows": null,
            "grid_column": null,
            "grid_gap": null,
            "grid_row": null,
            "grid_template_areas": null,
            "grid_template_columns": null,
            "grid_template_rows": null,
            "height": null,
            "justify_content": null,
            "justify_items": null,
            "left": null,
            "margin": null,
            "max_height": null,
            "max_width": null,
            "min_height": null,
            "min_width": null,
            "object_fit": null,
            "object_position": null,
            "order": null,
            "overflow": null,
            "overflow_x": null,
            "overflow_y": null,
            "padding": null,
            "right": null,
            "top": null,
            "visibility": null,
            "width": null
          }
        },
        "e799837508ea490b822cf6a1c46ed3f6": {
          "model_module": "@jupyter-widgets/controls",
          "model_name": "DescriptionStyleModel",
          "model_module_version": "1.5.0",
          "state": {
            "_model_module": "@jupyter-widgets/controls",
            "_model_module_version": "1.5.0",
            "_model_name": "DescriptionStyleModel",
            "_view_count": null,
            "_view_module": "@jupyter-widgets/base",
            "_view_module_version": "1.2.0",
            "_view_name": "StyleView",
            "description_width": ""
          }
        },
        "61462f09141547b69472d198f4bcb490": {
          "model_module": "@jupyter-widgets/base",
          "model_name": "LayoutModel",
          "model_module_version": "1.2.0",
          "state": {
            "_model_module": "@jupyter-widgets/base",
            "_model_module_version": "1.2.0",
            "_model_name": "LayoutModel",
            "_view_count": null,
            "_view_module": "@jupyter-widgets/base",
            "_view_module_version": "1.2.0",
            "_view_name": "LayoutView",
            "align_content": null,
            "align_items": null,
            "align_self": null,
            "border": null,
            "bottom": null,
            "display": null,
            "flex": null,
            "flex_flow": null,
            "grid_area": null,
            "grid_auto_columns": null,
            "grid_auto_flow": null,
            "grid_auto_rows": null,
            "grid_column": null,
            "grid_gap": null,
            "grid_row": null,
            "grid_template_areas": null,
            "grid_template_columns": null,
            "grid_template_rows": null,
            "height": null,
            "justify_content": null,
            "justify_items": null,
            "left": null,
            "margin": null,
            "max_height": null,
            "max_width": null,
            "min_height": null,
            "min_width": null,
            "object_fit": null,
            "object_position": null,
            "order": null,
            "overflow": null,
            "overflow_x": null,
            "overflow_y": null,
            "padding": null,
            "right": null,
            "top": null,
            "visibility": null,
            "width": null
          }
        },
        "73b3c6012a724ad4804db00adbefab9d": {
          "model_module": "@jupyter-widgets/controls",
          "model_name": "ProgressStyleModel",
          "model_module_version": "1.5.0",
          "state": {
            "_model_module": "@jupyter-widgets/controls",
            "_model_module_version": "1.5.0",
            "_model_name": "ProgressStyleModel",
            "_view_count": null,
            "_view_module": "@jupyter-widgets/base",
            "_view_module_version": "1.2.0",
            "_view_name": "StyleView",
            "bar_color": null,
            "description_width": ""
          }
        },
        "95139acb4d5d4c9981ae30d90b9da5ca": {
          "model_module": "@jupyter-widgets/base",
          "model_name": "LayoutModel",
          "model_module_version": "1.2.0",
          "state": {
            "_model_module": "@jupyter-widgets/base",
            "_model_module_version": "1.2.0",
            "_model_name": "LayoutModel",
            "_view_count": null,
            "_view_module": "@jupyter-widgets/base",
            "_view_module_version": "1.2.0",
            "_view_name": "LayoutView",
            "align_content": null,
            "align_items": null,
            "align_self": null,
            "border": null,
            "bottom": null,
            "display": null,
            "flex": null,
            "flex_flow": null,
            "grid_area": null,
            "grid_auto_columns": null,
            "grid_auto_flow": null,
            "grid_auto_rows": null,
            "grid_column": null,
            "grid_gap": null,
            "grid_row": null,
            "grid_template_areas": null,
            "grid_template_columns": null,
            "grid_template_rows": null,
            "height": null,
            "justify_content": null,
            "justify_items": null,
            "left": null,
            "margin": null,
            "max_height": null,
            "max_width": null,
            "min_height": null,
            "min_width": null,
            "object_fit": null,
            "object_position": null,
            "order": null,
            "overflow": null,
            "overflow_x": null,
            "overflow_y": null,
            "padding": null,
            "right": null,
            "top": null,
            "visibility": null,
            "width": null
          }
        },
        "4cb1244dab3f4f36a10b72b14843e99e": {
          "model_module": "@jupyter-widgets/controls",
          "model_name": "DescriptionStyleModel",
          "model_module_version": "1.5.0",
          "state": {
            "_model_module": "@jupyter-widgets/controls",
            "_model_module_version": "1.5.0",
            "_model_name": "DescriptionStyleModel",
            "_view_count": null,
            "_view_module": "@jupyter-widgets/base",
            "_view_module_version": "1.2.0",
            "_view_name": "StyleView",
            "description_width": ""
          }
        },
        "c5745f31831b4a688990645b3c8e4035": {
          "model_module": "@jupyter-widgets/controls",
          "model_name": "HBoxModel",
          "model_module_version": "1.5.0",
          "state": {
            "_dom_classes": [],
            "_model_module": "@jupyter-widgets/controls",
            "_model_module_version": "1.5.0",
            "_model_name": "HBoxModel",
            "_view_count": null,
            "_view_module": "@jupyter-widgets/controls",
            "_view_module_version": "1.5.0",
            "_view_name": "HBoxView",
            "box_style": "",
            "children": [
              "IPY_MODEL_6e648d19482f4968a3325d0f13d384c7",
              "IPY_MODEL_71633091465d44ddb6d04528543ddfe5",
              "IPY_MODEL_1eb84acb1f3d44b6879c58a490860652"
            ],
            "layout": "IPY_MODEL_d8e388f50b544788b12ceb49bdd1f7b6"
          }
        },
        "6e648d19482f4968a3325d0f13d384c7": {
          "model_module": "@jupyter-widgets/controls",
          "model_name": "HTMLModel",
          "model_module_version": "1.5.0",
          "state": {
            "_dom_classes": [],
            "_model_module": "@jupyter-widgets/controls",
            "_model_module_version": "1.5.0",
            "_model_name": "HTMLModel",
            "_view_count": null,
            "_view_module": "@jupyter-widgets/controls",
            "_view_module_version": "1.5.0",
            "_view_name": "HTMLView",
            "description": "",
            "description_tooltip": null,
            "layout": "IPY_MODEL_b601491b5269434daa335c88aba3ea5e",
            "placeholder": "​",
            "style": "IPY_MODEL_d854d9df15d34f2c82bbd0fd62a4a7f8",
            "value": "Getting trends...: 100%"
          }
        },
        "71633091465d44ddb6d04528543ddfe5": {
          "model_module": "@jupyter-widgets/controls",
          "model_name": "FloatProgressModel",
          "model_module_version": "1.5.0",
          "state": {
            "_dom_classes": [],
            "_model_module": "@jupyter-widgets/controls",
            "_model_module_version": "1.5.0",
            "_model_name": "FloatProgressModel",
            "_view_count": null,
            "_view_module": "@jupyter-widgets/controls",
            "_view_module_version": "1.5.0",
            "_view_name": "ProgressView",
            "bar_style": "success",
            "description": "",
            "description_tooltip": null,
            "layout": "IPY_MODEL_91611d853d214f1fb2723dc1e19b0474",
            "max": 6,
            "min": 0,
            "orientation": "horizontal",
            "style": "IPY_MODEL_9149cac3e74b42e484945311a7e648fe",
            "value": 6
          }
        },
        "1eb84acb1f3d44b6879c58a490860652": {
          "model_module": "@jupyter-widgets/controls",
          "model_name": "HTMLModel",
          "model_module_version": "1.5.0",
          "state": {
            "_dom_classes": [],
            "_model_module": "@jupyter-widgets/controls",
            "_model_module_version": "1.5.0",
            "_model_name": "HTMLModel",
            "_view_count": null,
            "_view_module": "@jupyter-widgets/controls",
            "_view_module_version": "1.5.0",
            "_view_name": "HTMLView",
            "description": "",
            "description_tooltip": null,
            "layout": "IPY_MODEL_f8f6e48abe4343c6b6aa173111a80a55",
            "placeholder": "​",
            "style": "IPY_MODEL_a5cb49f77533429abbf42a0be5c06e3b",
            "value": " 6/6 [01:22&lt;00:00, 14.87s/it]"
          }
        },
        "d8e388f50b544788b12ceb49bdd1f7b6": {
          "model_module": "@jupyter-widgets/base",
          "model_name": "LayoutModel",
          "model_module_version": "1.2.0",
          "state": {
            "_model_module": "@jupyter-widgets/base",
            "_model_module_version": "1.2.0",
            "_model_name": "LayoutModel",
            "_view_count": null,
            "_view_module": "@jupyter-widgets/base",
            "_view_module_version": "1.2.0",
            "_view_name": "LayoutView",
            "align_content": null,
            "align_items": null,
            "align_self": null,
            "border": null,
            "bottom": null,
            "display": null,
            "flex": null,
            "flex_flow": null,
            "grid_area": null,
            "grid_auto_columns": null,
            "grid_auto_flow": null,
            "grid_auto_rows": null,
            "grid_column": null,
            "grid_gap": null,
            "grid_row": null,
            "grid_template_areas": null,
            "grid_template_columns": null,
            "grid_template_rows": null,
            "height": null,
            "justify_content": null,
            "justify_items": null,
            "left": null,
            "margin": null,
            "max_height": null,
            "max_width": null,
            "min_height": null,
            "min_width": null,
            "object_fit": null,
            "object_position": null,
            "order": null,
            "overflow": null,
            "overflow_x": null,
            "overflow_y": null,
            "padding": null,
            "right": null,
            "top": null,
            "visibility": null,
            "width": null
          }
        },
        "b601491b5269434daa335c88aba3ea5e": {
          "model_module": "@jupyter-widgets/base",
          "model_name": "LayoutModel",
          "model_module_version": "1.2.0",
          "state": {
            "_model_module": "@jupyter-widgets/base",
            "_model_module_version": "1.2.0",
            "_model_name": "LayoutModel",
            "_view_count": null,
            "_view_module": "@jupyter-widgets/base",
            "_view_module_version": "1.2.0",
            "_view_name": "LayoutView",
            "align_content": null,
            "align_items": null,
            "align_self": null,
            "border": null,
            "bottom": null,
            "display": null,
            "flex": null,
            "flex_flow": null,
            "grid_area": null,
            "grid_auto_columns": null,
            "grid_auto_flow": null,
            "grid_auto_rows": null,
            "grid_column": null,
            "grid_gap": null,
            "grid_row": null,
            "grid_template_areas": null,
            "grid_template_columns": null,
            "grid_template_rows": null,
            "height": null,
            "justify_content": null,
            "justify_items": null,
            "left": null,
            "margin": null,
            "max_height": null,
            "max_width": null,
            "min_height": null,
            "min_width": null,
            "object_fit": null,
            "object_position": null,
            "order": null,
            "overflow": null,
            "overflow_x": null,
            "overflow_y": null,
            "padding": null,
            "right": null,
            "top": null,
            "visibility": null,
            "width": null
          }
        },
        "d854d9df15d34f2c82bbd0fd62a4a7f8": {
          "model_module": "@jupyter-widgets/controls",
          "model_name": "DescriptionStyleModel",
          "model_module_version": "1.5.0",
          "state": {
            "_model_module": "@jupyter-widgets/controls",
            "_model_module_version": "1.5.0",
            "_model_name": "DescriptionStyleModel",
            "_view_count": null,
            "_view_module": "@jupyter-widgets/base",
            "_view_module_version": "1.2.0",
            "_view_name": "StyleView",
            "description_width": ""
          }
        },
        "91611d853d214f1fb2723dc1e19b0474": {
          "model_module": "@jupyter-widgets/base",
          "model_name": "LayoutModel",
          "model_module_version": "1.2.0",
          "state": {
            "_model_module": "@jupyter-widgets/base",
            "_model_module_version": "1.2.0",
            "_model_name": "LayoutModel",
            "_view_count": null,
            "_view_module": "@jupyter-widgets/base",
            "_view_module_version": "1.2.0",
            "_view_name": "LayoutView",
            "align_content": null,
            "align_items": null,
            "align_self": null,
            "border": null,
            "bottom": null,
            "display": null,
            "flex": null,
            "flex_flow": null,
            "grid_area": null,
            "grid_auto_columns": null,
            "grid_auto_flow": null,
            "grid_auto_rows": null,
            "grid_column": null,
            "grid_gap": null,
            "grid_row": null,
            "grid_template_areas": null,
            "grid_template_columns": null,
            "grid_template_rows": null,
            "height": null,
            "justify_content": null,
            "justify_items": null,
            "left": null,
            "margin": null,
            "max_height": null,
            "max_width": null,
            "min_height": null,
            "min_width": null,
            "object_fit": null,
            "object_position": null,
            "order": null,
            "overflow": null,
            "overflow_x": null,
            "overflow_y": null,
            "padding": null,
            "right": null,
            "top": null,
            "visibility": null,
            "width": null
          }
        },
        "9149cac3e74b42e484945311a7e648fe": {
          "model_module": "@jupyter-widgets/controls",
          "model_name": "ProgressStyleModel",
          "model_module_version": "1.5.0",
          "state": {
            "_model_module": "@jupyter-widgets/controls",
            "_model_module_version": "1.5.0",
            "_model_name": "ProgressStyleModel",
            "_view_count": null,
            "_view_module": "@jupyter-widgets/base",
            "_view_module_version": "1.2.0",
            "_view_name": "StyleView",
            "bar_color": null,
            "description_width": ""
          }
        },
        "f8f6e48abe4343c6b6aa173111a80a55": {
          "model_module": "@jupyter-widgets/base",
          "model_name": "LayoutModel",
          "model_module_version": "1.2.0",
          "state": {
            "_model_module": "@jupyter-widgets/base",
            "_model_module_version": "1.2.0",
            "_model_name": "LayoutModel",
            "_view_count": null,
            "_view_module": "@jupyter-widgets/base",
            "_view_module_version": "1.2.0",
            "_view_name": "LayoutView",
            "align_content": null,
            "align_items": null,
            "align_self": null,
            "border": null,
            "bottom": null,
            "display": null,
            "flex": null,
            "flex_flow": null,
            "grid_area": null,
            "grid_auto_columns": null,
            "grid_auto_flow": null,
            "grid_auto_rows": null,
            "grid_column": null,
            "grid_gap": null,
            "grid_row": null,
            "grid_template_areas": null,
            "grid_template_columns": null,
            "grid_template_rows": null,
            "height": null,
            "justify_content": null,
            "justify_items": null,
            "left": null,
            "margin": null,
            "max_height": null,
            "max_width": null,
            "min_height": null,
            "min_width": null,
            "object_fit": null,
            "object_position": null,
            "order": null,
            "overflow": null,
            "overflow_x": null,
            "overflow_y": null,
            "padding": null,
            "right": null,
            "top": null,
            "visibility": null,
            "width": null
          }
        },
        "a5cb49f77533429abbf42a0be5c06e3b": {
          "model_module": "@jupyter-widgets/controls",
          "model_name": "DescriptionStyleModel",
          "model_module_version": "1.5.0",
          "state": {
            "_model_module": "@jupyter-widgets/controls",
            "_model_module_version": "1.5.0",
            "_model_name": "DescriptionStyleModel",
            "_view_count": null,
            "_view_module": "@jupyter-widgets/base",
            "_view_module_version": "1.2.0",
            "_view_name": "StyleView",
            "description_width": ""
          }
        }
      }
    }
  },
  "cells": [
    {
      "cell_type": "markdown",
      "source": [
        "### Загрузка данных для бухгалтеров и директоров"
      ],
      "metadata": {
        "id": "FNRF_SGC1zvL"
      }
    },
    {
      "cell_type": "markdown",
      "source": [
        "### Загрузка и подключение библиотек"
      ],
      "metadata": {
        "id": "ughrqxXX1sd8"
      }
    },
    {
      "cell_type": "code",
      "source": [
        "%%capture\n",
        "!pip install transformers\n",
        "!pip install sentencepiece\n",
        "!pip install umap-learn"
      ],
      "metadata": {
        "id": "Rl-MlENLsjsK"
      },
      "execution_count": 13,
      "outputs": []
    },
    {
      "cell_type": "code",
      "source": [
        "%%capture\n",
        "import gdown\n",
        "import numpy as np\n",
        "import pandas as pd\n",
        "import torch\n",
        "from transformers import AutoTokenizer, AutoModel\n",
        "from sklearn.cluster import KMeans\n",
        "from sklearn.linear_model import LinearRegression\n",
        "from sklearn.metrics import mean_squared_error\n",
        "from sklearn.metrics.pairwise import cosine_similarity\n",
        "from sklearn.metrics.pairwise import euclidean_distances\n",
        "from tqdm.notebook import tqdm\n",
        "from transformers import T5ForConditionalGeneration, T5Tokenizer\n",
        "from itertools import groupby\n",
        "import json"
      ],
      "metadata": {
        "id": "3p9NilP1iPyE"
      },
      "execution_count": 14,
      "outputs": []
    },
    {
      "cell_type": "markdown",
      "source": [
        "## Эмбеддинги и кластеризация"
      ],
      "metadata": {
        "id": "pU7YsWir3gb2"
      }
    },
    {
      "cell_type": "markdown",
      "source": [
        "### Класс для получения эмбеддингов текста"
      ],
      "metadata": {
        "id": "8wk-rjicC6Fi"
      }
    },
    {
      "cell_type": "code",
      "source": [
        "class RuBertEmbedder:\n",
        "\n",
        "    def __init__(self):\n",
        "        self.tokenizer = AutoTokenizer.from_pretrained(\"cointegrated/rubert-tiny2\")\n",
        "        self.model = AutoModel.from_pretrained(\"cointegrated/rubert-tiny2\")\n",
        "\n",
        "        if torch.cuda.is_available():\n",
        "            self.model.cuda()\n",
        "\n",
        "        self.device = self.model.device\n",
        "\n",
        "    def embed_bert_cls(self, text):\n",
        "        \"\"\"Получение эмбеддингов из текста\"\"\"\n",
        "        t = self.tokenizer(text.replace('\\n', ''), padding=True, truncation=True, return_tensors='pt')\n",
        "        with torch.no_grad():\n",
        "            model_output = self.model(**{k: v.to(self.device) for k, v in t.items()})\n",
        "        embeddings = model_output.last_hidden_state[:, 0, :]\n",
        "        embeddings = torch.nn.functional.normalize(embeddings)\n",
        "        return embeddings[0].cpu().numpy()\n",
        "\n",
        "    def encode_data(self, text_pool, data_column='content'):\n",
        "        print(\"Encoding data...\")\n",
        "        \"\"\"\n",
        "            Вход:\n",
        "                content - содержимое новости\n",
        "                date - дата публикации\n",
        "            Выход:\n",
        "                embeddings_pool- list с эмбеддингами новостей\n",
        "        \"\"\"\n",
        "        embeddings_pool = text_pool.apply(\n",
        "            lambda x: self.embed_bert_cls(x[data_column]), axis=1\n",
        "            )\n",
        "        print(\"Encoding done!\")\n",
        "        return embeddings_pool"
      ],
      "metadata": {
        "id": "013c6oQsAuJc"
      },
      "execution_count": 15,
      "outputs": []
    },
    {
      "cell_type": "markdown",
      "source": [
        "### Класс для кластеризации эмбеддингов (k-means)"
      ],
      "metadata": {
        "id": "gTFXjBqRDifS"
      }
    },
    {
      "cell_type": "code",
      "source": [
        "class KMeansClustering:\n",
        "    def __init__(self, text_pool, embeddings, clusters_num = None):\n",
        "        \"\"\"\n",
        "            Класс для кластеризации эмбеддингов.\n",
        "            На вход принмает информацию о новостях, эмбеддинги и количество кластеров.\n",
        "            Если оно не задано, то задаётся эмпирически.\n",
        "        \"\"\"\n",
        "        self.embeddings = embeddings\n",
        "        self.clusters_num = clusters_num\n",
        "        self.text_pool = text_pool\n",
        "\n",
        "        if clusters_num is None:\n",
        "            self.clusters_num = round((float(len(embeddings)))**(1/2.2)) # эвристика\n",
        "        \n",
        "    def clustering(self):\n",
        "        \"\"\"\n",
        "            Функция возвращает выполняющая поиск центроид кластеров.\n",
        "            Выход: \n",
        "                data - датафрейм с информацией о новостях, в который добавлены\n",
        "            метки кластеров и эмбеддинги,\n",
        "                centoids - центроиды кластеров\n",
        "        \"\"\"\n",
        "        print(\"Clustering data...\")\n",
        "        kmeans = KMeans(n_clusters = self.clusters_num, random_state = 42).fit(self.embeddings.to_list())\n",
        "        kmeans_labels = kmeans.labels_\n",
        "    \n",
        "        data = pd.DataFrame()\n",
        "        data['title'] = self.text_pool['title']\n",
        "        data['text'] = self.text_pool['content']\n",
        "        data['label'] = kmeans_labels\n",
        "        data['embedding'] = self.embeddings.to_list()\n",
        "    \n",
        "        centroids = kmeans.cluster_centers_\n",
        "\n",
        "        print(\"Clustering done!\")\n",
        "        \n",
        "        return data, centroids"
      ],
      "metadata": {
        "id": "NkCF0GIID10q"
      },
      "execution_count": 16,
      "outputs": []
    },
    {
      "cell_type": "markdown",
      "source": [
        "## Тренды, инсайты, дайджест"
      ],
      "metadata": {
        "id": "_KSz8JdP3sq9"
      }
    },
    {
      "cell_type": "markdown",
      "source": [
        "### Тренды"
      ],
      "metadata": {
        "id": "ToQD1tfh2qSS"
      }
    },
    {
      "cell_type": "code",
      "source": [
        "def sort_and_remove_repeat(keys_weights):\n",
        "        \"\"\"\n",
        "        Убираем повторения \n",
        "        Сортируем по второму аргументу массив вида [([x1], [y1]), ([x2], [y2]), ...], \n",
        "        где \n",
        "        * y2 - это частота\n",
        "        * x1 - это ключевое слово\n",
        "        \"\"\"\n",
        "        dict_keys = {}\n",
        "        set_stop_words = set(['анализ и проектирование систем', \\\n",
        "                            'промышленное программирование', 'читальный зал', \\\n",
        "                            'разработка веб-сайтов', 'программирование микроконтроллеров'\\\n",
        "                            'системное программирование', 'ненормальное программирование',\\\n",
        "                            'мобильная разработка', 'разработка мобильных приложений',\\\n",
        "                            'будущее здесь', 'научно-популярное', 'платежи в интернет',\\\n",
        "                            'платежи с мобильного', 'разработка игр', 'монетизация игр', 'дизайн игр'])\n",
        "        \n",
        "\n",
        "        for i in range(len(keys_weights)):\n",
        "            for j in range(len(keys_weights[i][0])):\n",
        "                if keys_weights[i][0][j] in set_stop_words:\n",
        "                    continue\n",
        "                elif not (keys_weights[i][0][j] in dict_keys):\n",
        "                    dict_keys[keys_weights[i][0][j]] = keys_weights[i][1][j]\n",
        "                else:\n",
        "                    dict_keys[keys_weights[i][0][j]] += keys_weights[i][1][j]\n",
        "\n",
        "        dict_zip = list(zip(dict_keys.keys(), dict_keys.values()))\n",
        "\n",
        "        return sorted(dict_zip, key=lambda tup: tup[1], reverse=True)\n",
        "\n",
        "\n",
        "class KeyWordsExtractor:\n",
        "\n",
        "    def __init__(self, model_name=\"0x7194633/keyt5-large\"):\n",
        "        self.model_name = model_name\n",
        "\n",
        "        self.tokenizer = T5Tokenizer.from_pretrained(model_name)\n",
        "        self.model = T5ForConditionalGeneration.from_pretrained(model_name)\n",
        "        if torch.cuda.is_available():\n",
        "            self.model.cuda()\n",
        "\n",
        "        self.device = self.model.device\n",
        "\n",
        "    def generate(self, text,  **kwargs):\n",
        "        \"\"\"\n",
        "        Производим генерацию keywords\n",
        "        \"\"\"\n",
        "\n",
        "        inputs = self.tokenizer(text, return_tensors='pt').to(self.device)\n",
        "\n",
        "        with torch.no_grad():\n",
        "            hypotheses = self.model.generate(**inputs, num_beams=5, **kwargs)\n",
        "\n",
        "        s = self.tokenizer.decode(hypotheses[0], skip_special_tokens=True)\n",
        "        s = s.replace('; ', ';').replace(' ;', ';').lower().split(';')[:-1]\n",
        "        gamma = 1\n",
        "        s = [el for el, _ in groupby(s)]\n",
        "        weights = [gamma**i for i in range(len(s))]\n",
        "\n",
        "        return s, weights\n",
        "\n",
        "    def get_keywords(self, set_of_articles, **kwargs):\n",
        "        \"\"\"\n",
        "        Получаем отсортированные по частоте сгенерированные ключевые фразы из набора статей\n",
        "\n",
        "        [(key_1, weight_1), (key_2, weight_2), ....]\n",
        "        \"\"\"\n",
        "\n",
        "        keys_weights = []\n",
        "        len_set = len(set_of_articles)\n",
        "\n",
        "        for i in range(len_set):\n",
        "            text = set_of_articles[i]\n",
        "            keys_weights.append(self.generate(text, **kwargs))\n",
        "\n",
        "        return sort_and_remove_repeat(keys_weights)\n",
        "        \n",
        "\n",
        "    def get_trends(self, set_of_articles, n=5, threshold=0.95, **kwargs):\n",
        "        \"\"\"\n",
        "        Получаем n трендовых ключевых слов\n",
        "        \"\"\"\n",
        "        \n",
        "        keys = self.get_keywords(set_of_articles, **kwargs)\n",
        "        \n",
        "        keys, _ = self.cos_simularity(keys, threshold=0.95)\n",
        "\n",
        "        return keys[:n]\n",
        "\n",
        "\n",
        "    def get_embed(self, text):\n",
        "        t = self.tokenizer(text.replace('\\n', ''), padding=True, truncation=True, return_tensors='pt').to(self.device)\n",
        "        with torch.no_grad():\n",
        "            model_output = self.model.encoder(input_ids=t.input_ids, attention_mask=t.attention_mask, return_dict=True)\n",
        "        embeddings = model_output.last_hidden_state[:, 0, :]\n",
        "        embeddings = torch.nn.functional.normalize(embeddings)\n",
        "        return embeddings[0].cpu()\n",
        "\n",
        "\n",
        "    def cos_simularity(self, keys_weights, threshold=0.95):\n",
        "        \"\"\"\n",
        "        Считаем косинусную схожесть, возвращаем отсортированный по частоте список \n",
        "        объединённый ключей таблицу взаимной схожести\n",
        "        \"\"\"\n",
        "        \n",
        "        new_keys_weights = []\n",
        "\n",
        "        cos_sim = np.ones((len(keys_weights), len(keys_weights)))\n",
        "        \n",
        "        cos = torch.nn.CosineSimilarity(dim=1)\n",
        "\n",
        "\n",
        "        for i in range(len(keys_weights)):\n",
        "            sim_keys = [keys_weights[i][0]]\n",
        "            sim_weight = keys_weights[i][1]\n",
        "            embed_i = torch.unsqueeze(self.get_embed(keys_weights[i][0]), 0)\n",
        "            for j in range(i+1, len(keys_weights)):\n",
        "                embed_2 = torch.unsqueeze(self.get_embed(keys_weights[j][0]), 0)\n",
        "\n",
        "                cos_sim[i][j] = cos(embed_i, embed_2).numpy()[0]\n",
        "                cos_sim[j][i] = cos_sim[i][j]\n",
        "\n",
        "                if cos_sim[i][j] > threshold:\n",
        "    \n",
        "                    sim_keys.append((keys_weights[j][0]))\n",
        "                    sim_weight += keys_weights[j][1]  \n",
        "\n",
        "            new_keys_weights.append((sim_keys, [sim_weight]))  \n",
        "        return sorted(new_keys_weights, key=lambda tup: tup[1], reverse=True), cos_sim"
      ],
      "metadata": {
        "id": "LY2p2wra20k-"
      },
      "execution_count": 17,
      "outputs": []
    },
    {
      "cell_type": "code",
      "source": [
        "def get_trends(data, centroids_map, top_for_cluster=10, max_news_len=200):\n",
        "    words_extractor = KeyWordsExtractor()\n",
        "\n",
        "    top_articles_for_clusters = get_top_articles(data, centroids_map, top_k=top_for_cluster)\n",
        "    \n",
        "    \n",
        "    trends_list = []\n",
        "    pbar = tqdm(total=len(top_articles_for_clusters))\n",
        "    pbar.set_description(\"Getting trends...\")\n",
        "    for top_articles in top_articles_for_clusters:\n",
        "        top_articles = [' '.join(row.split(' ')[:max_news_len]) for row in top_articles]\n",
        "        trends_list.append(words_extractor.get_trends(top_articles, threshold=0.95, top_p=1.0, max_length=256, min_length=5))\n",
        "        pbar.update(1)\n",
        "\n",
        "    pbar.close()\n",
        "\n",
        "    return np.array(trends_list)"
      ],
      "metadata": {
        "id": "pGJ_Xu0r20lA"
      },
      "execution_count": 18,
      "outputs": []
    },
    {
      "cell_type": "markdown",
      "source": [
        "### Инсайты"
      ],
      "metadata": {
        "id": "C9-Ph1tt22nS"
      }
    },
    {
      "cell_type": "code",
      "source": [
        "def summarize(tokenizer, model, text,  n_words=None, compression=None, max_length=1000, num_beams=3, do_sample=False, repetition_penalty=10.0):\n",
        "    if n_words:\n",
        "        text = '[{}] '.format(n_words) + text\n",
        "    elif compression:\n",
        "        text = '[{0:.1g}] '.format(compression) + text\n",
        "    x = tokenizer(text, return_tensors='pt', padding=True)\n",
        "\n",
        "    with torch.inference_mode():\n",
        "        out = model.generate(\n",
        "            **x, \n",
        "            max_length=max_length, num_beams=num_beams, \n",
        "            do_sample=do_sample, repetition_penalty=repetition_penalty\n",
        "        )\n",
        "    return tokenizer.decode(out[0], skip_special_tokens=True)\n",
        "\n",
        "def get_insites(data, centroids_map, top_for_cluster=10, max_news_len=200):\n",
        "    t5_model = T5ForConditionalGeneration.from_pretrained('cointegrated/rut5-base-absum')\n",
        "    t5_tokenizer = T5Tokenizer.from_pretrained('cointegrated/rut5-base-absum')\n",
        "\n",
        "    top_articles_for_clusters = get_top_articles(data, centroids_map, top_k=top_for_cluster)\n",
        "    \n",
        "    \n",
        "    insites_list = []\n",
        "    pbar = tqdm(total=len(top_articles_for_clusters))\n",
        "    pbar.set_description(\"Getting insites...\")\n",
        "    for top_articles in top_articles_for_clusters:\n",
        "        top_articles = [' '.join(row.split(' ')[:max_news_len]) for row in top_articles]\n",
        "        insites_list.append(summarize(t5_tokenizer, t5_model, ' '.join(top_articles)))\n",
        "        pbar.update(1)\n",
        "\n",
        "    pbar.close()\n",
        "\n",
        "    return np.array(insites_list)"
      ],
      "metadata": {
        "id": "Ds-ITJFs3Rjq"
      },
      "execution_count": 19,
      "outputs": []
    },
    {
      "cell_type": "markdown",
      "source": [
        "### Дайджест"
      ],
      "metadata": {
        "id": "E0wQY7rU25gK"
      }
    },
    {
      "cell_type": "code",
      "source": [
        "def get_top_articles(data, centroids_map, top_k=5, text_col='text'):\n",
        "    \"\"\"\n",
        "        Функция выделяет ближайших к центру top_k новостей для каждого кластера.\n",
        "        Вход:\n",
        "            data - данные о новостях с текстами и эмбеддингами,\n",
        "            \n",
        "    \"\"\"\n",
        "    top_texts_list = []\n",
        "\n",
        "    for label, cluster_center in centroids_map.items():\n",
        "        cluster = data[data['label'] == label]\n",
        "        embeddings = list(cluster['embedding'])\n",
        "        texts = list(cluster[text_col])\n",
        "        \n",
        "        distances = [euclidean_distances(cluster_center.reshape(1, -1), e.reshape(1, -1))[0][0] for e in embeddings]\n",
        "        scores = list(zip(texts, distances))\n",
        "        top_ = sorted(scores, key=lambda x: x[1])[:top_k]\n",
        "        top_texts = list(zip(*top_))[0]\n",
        "        top_texts_list.append(top_texts)\n",
        "    return top_texts_list\n",
        "\n",
        "def get_digest(data, centroids_map, top_clusters = 5):\n",
        "    top_label = data['label'].value_counts()[:top_clusters].index.to_list()\n",
        "    local_centroids = {label: centroids_map[label] for label in top_label}\n",
        "\n",
        "    return np.array(get_top_articles(data, local_centroids, top_k=1, text_col='title'))"
      ],
      "metadata": {
        "id": "SZYnJUkp3U_0"
      },
      "execution_count": 20,
      "outputs": []
    },
    {
      "cell_type": "markdown",
      "source": [
        "## Основное взаимодейтвие"
      ],
      "metadata": {
        "id": "yxBw4zDK3xBC"
      }
    },
    {
      "cell_type": "markdown",
      "source": [
        "### Утилиты"
      ],
      "metadata": {
        "id": "PrqpIjrt2KWQ"
      }
    },
    {
      "cell_type": "code",
      "source": [
        "def get_data_by_period(df, start_date_string = None, end_date_string = None):\n",
        "    \"\"\"\n",
        "        Выдление новостей для заданного временного промежутка.\n",
        "        Вход:\n",
        "            df - DataFrame с колонками 'content' и 'date'\n",
        "            start_date_string - строка задающая начало временного периода, \n",
        "        в формате yyyy-mm-dd\n",
        "            end_date_string - строка задающая конец временного периода.\n",
        "        Выход:\n",
        "            отфильтрованный по времени DataFrame\n",
        "\n",
        "    \"\"\"\n",
        "    df.loc[:, 'date'] = pd.to_datetime(df['date'])\n",
        "    mask = (df['date'] > pd.to_datetime(start_date_string)) & (df['date'] < pd.to_datetime(end_date_string))\n",
        "    return df.loc[mask,:]"
      ],
      "metadata": {
        "id": "soLh-JKkBkrG"
      },
      "execution_count": 27,
      "outputs": []
    },
    {
      "cell_type": "code",
      "source": [
        "def format_output(json_response):\n",
        "    format_out_json = json.loads(json_response)\n",
        "    print('Дайджесты:')\n",
        "    print('\\n'.join([str(digest['id']+1) + '. ' + digest['content'] for digest in format_out_json['digest']]))\n",
        "\n",
        "    print('\\nТренды:')\n",
        "    print('\\n'.join(['\\n'.join(trends['content']) for trends in format_out_json['trends']]))\n",
        "\n",
        "    print('\\nИнсайты:')\n",
        "    print('\\n'.join([str(insite['id']+1) + '. ' +insite['content'] for insite in format_out_json['insites']]))\n",
        "\n",
        "    \n",
        "def format_json_response(insites, trends, digest, start_date, end_date):\n",
        "    result = {\"dates\": {\"start_date\": start_date, \"end_date\": end_date}, \"insites\": [], \"trends\": [], \"digest\": []}\n",
        "    \n",
        "    \n",
        "    for insite, id in zip(insites, range(0, len(insites))):\n",
        "        result[\"insites\"].append({\"id\": id, \"content\": insite})\n",
        "\n",
        "    for trend, id in zip(trends, range(0, len(trends))):\n",
        "        result[\"trends\"].append({'id' : id, \"content\": [trend[0][0][0], trend[1][0][0]]})\n",
        "    \n",
        "    for digest_el, id in zip(digest, range(0, len(digest))):\n",
        "        result[\"digest\"].append({'id' : id, \"content\": digest_el[0]})\n",
        "\n",
        "\n",
        "\n",
        "    return json.dumps(result)"
      ],
      "metadata": {
        "id": "TbwjyuEjRuoy"
      },
      "execution_count": 28,
      "outputs": []
    },
    {
      "cell_type": "code",
      "source": [
        "def download_data(url, file_name):\n",
        "    gdown.download(url, file_name, fuzzy=True)\n",
        "\n",
        "#скачивание данных для директоров\n",
        "download_data(\n",
        "    'https://drive.google.com/file/d/1-cupnhoEB_isDyO0CPMAnuamqvCnI4us/view?usp=sharing',\n",
        "              'ceo_data.csv')\n",
        "#скачивание данных для бухгалтеров\n",
        "download_data( \n",
        "    'https://drive.google.com/file/d/1-rtHxQcfj6XJZJ2UWgO6gcmuLrBqn_8q/view?usp=sharing',\n",
        "              'acc_data.csv')"
      ],
      "metadata": {
        "colab": {
          "base_uri": "https://localhost:8080/"
        },
        "id": "wxsZbWg_wJN7",
        "outputId": "8f8cc6fc-19fd-42da-bd00-0c48d8904a19"
      },
      "execution_count": 29,
      "outputs": [
        {
          "output_type": "stream",
          "name": "stderr",
          "text": [
            "Downloading...\n",
            "From: https://drive.google.com/uc?id=1-cupnhoEB_isDyO0CPMAnuamqvCnI4us\n",
            "To: /content/ceo_data.csv\n",
            "100%|██████████| 21.2M/21.2M [00:00<00:00, 176MB/s]\n",
            "Downloading...\n",
            "From: https://drive.google.com/uc?id=1-rtHxQcfj6XJZJ2UWgO6gcmuLrBqn_8q\n",
            "To: /content/acc_data.csv\n",
            "100%|██████████| 33.1M/33.1M [00:00<00:00, 86.7MB/s]\n"
          ]
        }
      ]
    },
    {
      "cell_type": "markdown",
      "source": [
        "### Получение ответа для бухгалтеров и директоров "
      ],
      "metadata": {
        "id": "g2L0PS6J2OvY"
      }
    },
    {
      "cell_type": "code",
      "source": [
        "def get_response(input_data, start_date, end_date):\n",
        "    \"\"\"\n",
        "        Получение инсайтов, трендов и дайджеста.\n",
        "        Вход:\n",
        "            df - DataFrame с колонками 'content' и 'date'\n",
        "            start_date_string - строка задающая начало временного периода, \n",
        "        в формате yyyy-mm-dd\n",
        "            end_date_string - строка задающая конец временного периода.\n",
        "        Выход:\n",
        "            кортеж из неотформатированных результатов (инсайты, тренды, дайджест)\n",
        "    \"\"\"\n",
        "    text_pool = get_data_by_period(input_data, start_date, end_date) # выделение новостей из конкретного временного периода\n",
        "\n",
        "    embeddins_pool = RuBertEmbedder().encode_data(text_pool, data_column='content') # получшение эмбеддингов из содержимого новостей\n",
        "\n",
        "    clustering_data, centroids = KMeansClustering(text_pool, embeddins_pool).clustering() # кластеризация\n",
        "    centroids_map = {i: centroids[i] for i in range(len(centroids))}\n",
        "\n",
        "    insites = get_insites(clustering_data, centroids_map, top_for_cluster=30, max_news_len=100) # инсайты\n",
        "    trends = get_trends(clustering_data, centroids_map, top_for_cluster=5, max_news_len=80) # тренды\n",
        "    digest = get_digest(clustering_data, centroids_map, top_clusters=3) # дайджест\n",
        "\n",
        "    response = format_json_response(insites, trends, digest, start_date, end_date) # агрегация результатов в формат Json\n",
        "\n",
        "    return response"
      ],
      "metadata": {
        "id": "k6CMSUSnzXjC"
      },
      "execution_count": 30,
      "outputs": []
    },
    {
      "cell_type": "code",
      "source": [
        "ceo_data = pd.read_csv('/content/ceo_data.csv')\n",
        "ceo_json_response = get_response(ceo_data, '2022-02-14', '2022-02-28')"
      ],
      "metadata": {
        "colab": {
          "base_uri": "https://localhost:8080/",
          "height": 188,
          "referenced_widgets": [
            "ebd37b95eac4442f9c4498b3a0682c17",
            "8c26f6b9c64b41788f73e6960bea6b32",
            "d0a3eac0717b44899cc9c676d0a21692",
            "dc49e60c11a444a2a18d5271051f0d92",
            "9740d188c0f14616a5819ff9d5939535",
            "e880dffa61c64888859971e3f9c265b0",
            "e799837508ea490b822cf6a1c46ed3f6",
            "61462f09141547b69472d198f4bcb490",
            "73b3c6012a724ad4804db00adbefab9d",
            "95139acb4d5d4c9981ae30d90b9da5ca",
            "4cb1244dab3f4f36a10b72b14843e99e",
            "c5745f31831b4a688990645b3c8e4035",
            "6e648d19482f4968a3325d0f13d384c7",
            "71633091465d44ddb6d04528543ddfe5",
            "1eb84acb1f3d44b6879c58a490860652",
            "d8e388f50b544788b12ceb49bdd1f7b6",
            "b601491b5269434daa335c88aba3ea5e",
            "d854d9df15d34f2c82bbd0fd62a4a7f8",
            "91611d853d214f1fb2723dc1e19b0474",
            "9149cac3e74b42e484945311a7e648fe",
            "f8f6e48abe4343c6b6aa173111a80a55",
            "a5cb49f77533429abbf42a0be5c06e3b"
          ]
        },
        "id": "JVxE9t2j4miN",
        "outputId": "62031653-4e95-4c70-c28c-a7595ec47118"
      },
      "execution_count": 33,
      "outputs": [
        {
          "output_type": "stream",
          "name": "stdout",
          "text": [
            "Encoding data...\n",
            "Encoding done!\n",
            "Clustering data...\n",
            "Clustering done!\n"
          ]
        },
        {
          "output_type": "display_data",
          "data": {
            "text/plain": [
              "  0%|          | 0/6 [00:00<?, ?it/s]"
            ],
            "application/vnd.jupyter.widget-view+json": {
              "version_major": 2,
              "version_minor": 0,
              "model_id": "ebd37b95eac4442f9c4498b3a0682c17"
            }
          },
          "metadata": {}
        },
        {
          "output_type": "display_data",
          "data": {
            "text/plain": [
              "  0%|          | 0/6 [00:00<?, ?it/s]"
            ],
            "application/vnd.jupyter.widget-view+json": {
              "version_major": 2,
              "version_minor": 0,
              "model_id": "c5745f31831b4a688990645b3c8e4035"
            }
          },
          "metadata": {}
        },
        {
          "output_type": "stream",
          "name": "stderr",
          "text": [
            "/usr/local/lib/python3.7/dist-packages/ipykernel_launcher.py:17: VisibleDeprecationWarning: Creating an ndarray from ragged nested sequences (which is a list-or-tuple of lists-or-tuples-or ndarrays with different lengths or shapes) is deprecated. If you meant to do this, you must specify 'dtype=object' when creating the ndarray.\n"
          ]
        }
      ]
    },
    {
      "cell_type": "code",
      "source": [
        "print(\"Директора\")\n",
        "format_output(ceo_json_response)"
      ],
      "metadata": {
        "colab": {
          "base_uri": "https://localhost:8080/"
        },
        "id": "bgLOL8bQNWbt",
        "outputId": "44f05c3c-0769-42a6-e271-f6be2d65b235"
      },
      "execution_count": 34,
      "outputs": [
        {
          "output_type": "stream",
          "name": "stdout",
          "text": [
            "Директора\n",
            "Дайджесты:\n",
            "1. Российские биржи приостановили торги\n",
            "2. ФАС разбертся, насколько обоснованным было резкое повышение цен в сети магазинов бытовой техники и электроники DNS.\n",
            "3. У России есть наджный план на случай введения Западом новых санкций от драматичного сценария страну уберегут прочные макрофинансовые показатели, уверен министр финансов Антон Силуанов.\n",
            "\n",
            "Тренды:\n",
            "космический мусор\n",
            "космонавтика\n",
            "сбербанк\n",
            "экосистема\n",
            "платежи\n",
            "финансы\n",
            "управление продуктом\n",
            "сбербанк\n",
            "маркетплейс\n",
            "ценообразование\n",
            "сбер\n",
            "банки\n",
            "\n",
            "Инсайты:\n",
            "1. Акции американской космической компании Virgin Galactic выросли на 13,11 до 8,85 за бумагу.\n",
            "2. Российские биржи приостановили торги по всем видам ценных бумаг изза приближения котировок к установленным границам\n",
            "3. Глава Госдумы Вячеслав Володин призвал россиян верить в рубль, если он падает\n",
            "4. Эксперты по работе с персоналом крупных российских компаний обсудили, как изменилось отношение сотрудников к работе в компаниях за последние два года\n",
            "5. Власти России прислушались к законопроекту о внесудебной блокировке сайтов, продающих незарегистрированные БАДы\n",
            "6. Сбер, ВТБ, АльфаБанк и многие другие банки России сделали совместное заявление о поддержке клиентов.\n"
          ]
        }
      ]
    },
    {
      "cell_type": "code",
      "source": [
        "print(\"Бухгалтеры\")\n",
        "format_output(acc_json_response)"
      ],
      "metadata": {
        "id": "YwFkggY6Fje5"
      },
      "execution_count": null,
      "outputs": []
    },
    {
      "cell_type": "code",
      "source": [
        "acc_data = pd.read_csv('/content/acc_data.csv')\n",
        "acc_json_response = get_response(acc_data, '2022-02-14', '2022-02-28')"
      ],
      "metadata": {
        "id": "82SUWD_rM5oX"
      },
      "execution_count": null,
      "outputs": []
    },
    {
      "cell_type": "code",
      "source": [],
      "metadata": {
        "id": "9a5tttkiNZy1"
      },
      "execution_count": null,
      "outputs": []
    }
  ]
}