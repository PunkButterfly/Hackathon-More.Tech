{
  "nbformat": 4,
  "nbformat_minor": 0,
  "metadata": {
    "colab": {
      "provenance": [],
      "collapsed_sections": [
        "mppt0uW918nv",
        "YuTSaoIoKber",
        "VEaHDB9RKgi6",
        "kM-PFbt4OJz3",
        "8Ol5a6R1WZEk",
        "w_D0NDDeBAnp",
        "2jvC1D1BDW9n",
        "Ws4u6EA2gp8O",
        "Et8wWKdEKjXy",
        "svWcz2ahMpH3",
        "Un_Wy6pFOq1y",
        "T_t4OUshQKSN",
        "YFFQ9tfdQP5H"
      ],
      "toc_visible": true
    },
    "kernelspec": {
      "name": "python3",
      "display_name": "Python 3"
    },
    "language_info": {
      "name": "python"
    }
  },
  "cells": [
    {
      "cell_type": "markdown",
      "source": [
        "# Обработка спаршенных "
      ],
      "metadata": {
        "id": "PQRctHkD1f-_"
      }
    },
    {
      "cell_type": "code",
      "source": [
        "!pip install requests beautifulsoup4"
      ],
      "metadata": {
        "colab": {
          "base_uri": "https://localhost:8080/"
        },
        "id": "Qn-LxWEzv3KB",
        "outputId": "ad1f07e0-ffa1-41e5-8e61-1a1752f5f653"
      },
      "execution_count": 2,
      "outputs": [
        {
          "output_type": "stream",
          "name": "stdout",
          "text": [
            "Looking in indexes: https://pypi.org/simple, https://us-python.pkg.dev/colab-wheels/public/simple/\n",
            "Requirement already satisfied: requests in /usr/local/lib/python3.7/dist-packages (2.23.0)\n",
            "Requirement already satisfied: beautifulsoup4 in /usr/local/lib/python3.7/dist-packages (4.6.3)\n",
            "Requirement already satisfied: chardet<4,>=3.0.2 in /usr/local/lib/python3.7/dist-packages (from requests) (3.0.4)\n",
            "Requirement already satisfied: urllib3!=1.25.0,!=1.25.1,<1.26,>=1.21.1 in /usr/local/lib/python3.7/dist-packages (from requests) (1.24.3)\n",
            "Requirement already satisfied: idna<3,>=2.5 in /usr/local/lib/python3.7/dist-packages (from requests) (2.10)\n",
            "Requirement already satisfied: certifi>=2017.4.17 in /usr/local/lib/python3.7/dist-packages (from requests) (2022.9.24)\n"
          ]
        }
      ]
    },
    {
      "cell_type": "code",
      "source": [
        "!pip install requests"
      ],
      "metadata": {
        "colab": {
          "base_uri": "https://localhost:8080/"
        },
        "id": "0jsbRmvwwQKx",
        "outputId": "900bc0df-ce8a-4fff-d20c-733548b56c81"
      },
      "execution_count": 5,
      "outputs": [
        {
          "output_type": "stream",
          "name": "stdout",
          "text": [
            "Looking in indexes: https://pypi.org/simple, https://us-python.pkg.dev/colab-wheels/public/simple/\n",
            "Requirement already satisfied: requests in /usr/local/lib/python3.7/dist-packages (2.23.0)\n",
            "Requirement already satisfied: chardet<4,>=3.0.2 in /usr/local/lib/python3.7/dist-packages (from requests) (3.0.4)\n",
            "Requirement already satisfied: certifi>=2017.4.17 in /usr/local/lib/python3.7/dist-packages (from requests) (2022.9.24)\n",
            "Requirement already satisfied: urllib3!=1.25.0,!=1.25.1,<1.26,>=1.21.1 in /usr/local/lib/python3.7/dist-packages (from requests) (1.24.3)\n",
            "Requirement already satisfied: idna<3,>=2.5 in /usr/local/lib/python3.7/dist-packages (from requests) (2.10)\n"
          ]
        }
      ]
    },
    {
      "cell_type": "markdown",
      "source": [
        "# Парсинг сайта https://glavkniga.ru (не запускать)"
      ],
      "metadata": {
        "id": "mppt0uW918nv"
      }
    },
    {
      "cell_type": "code",
      "source": [
        "import requests\n",
        "from bs4 import BeautifulSoup as BS\n",
        "import pandas as pd\n",
        "#Создание ссылок для на каждую ленту\n",
        "weeks_in_year = 52\n",
        "pattern = \"https://glavkniga.ru/news/?week=\"\n",
        "week_number = \"2\"\n",
        "links = []\n",
        "begin_year = 2020\n",
        "end_period = (41,2022)\n",
        "for i in range(3):\n",
        "  for j in range(weeks_in_year):\n",
        "    if i+begin_year == end_period[1] and j == end_period[0]:\n",
        "      break\n",
        "    links.append(pattern+str(j)+'-' + str(begin_year+i))\n",
        "  if i+begin_year == end_period[1]:\n",
        "    break\n",
        "\n",
        "article_links = []\n",
        "for url in links:\n",
        "  response = requests.get(url)\n",
        "  soup = BS(response.text, 'lxml')\n",
        "  for a in soup.find_all('a', {\"class\": \"news_block_hdg\"}):\n",
        "      article_links.append('https://glavkniga.ru'+a['href'])\n",
        "\n",
        "data = []\n",
        "for url in article_links:\n",
        "  response = requests.get(url)\n",
        "  soup = BS(response.text, 'lxml')\n",
        "  date = soup.find_all('div', id = 'news_flags_date')[0].text\n",
        "  title = soup.find_all('h1')[0].text\n",
        "  summery = soup.find_all('div', id = 'news_lead')[0].text\n",
        "  text = ' '.join(soup.find_all('div', id=\"news_body\")[0].text.split())\n",
        "  data.append([title, text, date])\n",
        "\n",
        "dataF = pd.DataFrame(data, columns = ['title', 'content', 'date'])\n",
        "dataF.to_csv('data.csv')"
      ],
      "metadata": {
        "id": "XulI5Eqwx_rO"
      },
      "execution_count": 130,
      "outputs": []
    },
    {
      "cell_type": "code",
      "source": [],
      "metadata": {
        "id": "fXRlEbbOMmgo"
      },
      "execution_count": 189,
      "outputs": []
    },
    {
      "cell_type": "markdown",
      "source": [
        "# Обработка спаршенных данных"
      ],
      "metadata": {
        "id": "MCtj20Cq22oD"
      }
    },
    {
      "cell_type": "code",
      "source": [
        "import pandas as pd\n",
        "import numpy as np\n",
        "from datetime import datetime\n",
        "import re\n"
      ],
      "metadata": {
        "id": "SjqzHdVesbg3"
      },
      "execution_count": 91,
      "outputs": []
    },
    {
      "cell_type": "code",
      "source": [
        "import gdown\n",
        "# Скачивание данных для обработки от Сани\n",
        "url = 'https://drive.google.com/drive/folders/1sdsPQBmz2NunzABgYoy7asCS0IPSYDcN?usp=sharing'\n",
        "folder_name = 'datasets_by_sasha'\n",
        "gdown.download_folder(url, output=folder_name)"
      ],
      "metadata": {
        "colab": {
          "base_uri": "https://localhost:8080/"
        },
        "id": "nNe44WXD4YUF",
        "outputId": "213135a0-ce44-49a7-e26b-71984f2a1c9d"
      },
      "execution_count": 92,
      "outputs": [
        {
          "output_type": "stream",
          "name": "stderr",
          "text": [
            "Retrieving folder list\n"
          ]
        },
        {
          "output_type": "stream",
          "name": "stdout",
          "text": [
            "Retrieving folder 12Wv913yC_aWejrCYHgXCZl3ggycYATZD Бухгалтеры\n",
            "Processing file 123Bs0vcXt0qyO7rptacwBGp57Mon8wYT buh.csv\n",
            "Retrieving folder 1OLo0jQ0_8gMAtgxpYQrWsw68S4vTRcEL ГенДиректора\n",
            "Processing file 16GEZ6Ray2qEMhIuNbj8OkkkPxiPtnaGd avenuenews.csv\n",
            "Processing file 1uLXmD4OTmRDGMNN_WCMsTk0kgWVAEoga economika.csv\n",
            "Processing file 1X_O36FRtolRuc6Jk8zom0UL5SIzBaY7P mislinemisli.csv\n",
            "Processing file 17jJQwXjV5DAEGI65CBRIIyQQSkrlrajn secretmag.csv\n",
            "Processing file 12RawUV0LQc8mqtA1YGjU6jAT3kkX2xpw svoedelo.csv\n",
            "Processing file 18kytmV4zlTG3AKXp6Vqaqp7eKLggUQEm tinkoffjournal.csv\n",
            "Building directory structure completed\n"
          ]
        },
        {
          "output_type": "stream",
          "name": "stderr",
          "text": [
            "Retrieving folder list completed\n",
            "Building directory structure\n",
            "Downloading...\n",
            "From: https://drive.google.com/uc?id=123Bs0vcXt0qyO7rptacwBGp57Mon8wYT\n",
            "To: /content/datasets_by_sasha/Бухгалтеры/buh.csv\n",
            "100%|██████████| 30.6M/30.6M [00:00<00:00, 315MB/s]\n",
            "Downloading...\n",
            "From: https://drive.google.com/uc?id=16GEZ6Ray2qEMhIuNbj8OkkkPxiPtnaGd\n",
            "To: /content/datasets_by_sasha/ГенДиректора/avenuenews.csv\n",
            "100%|██████████| 1.85M/1.85M [00:00<00:00, 139MB/s]\n",
            "Downloading...\n",
            "From: https://drive.google.com/uc?id=1uLXmD4OTmRDGMNN_WCMsTk0kgWVAEoga\n",
            "To: /content/datasets_by_sasha/ГенДиректора/economika.csv\n",
            "100%|██████████| 14.0M/14.0M [00:00<00:00, 246MB/s]\n",
            "Downloading...\n",
            "From: https://drive.google.com/uc?id=1X_O36FRtolRuc6Jk8zom0UL5SIzBaY7P\n",
            "To: /content/datasets_by_sasha/ГенДиректора/mislinemisli.csv\n",
            "100%|██████████| 15.1M/15.1M [00:00<00:00, 291MB/s]\n",
            "Downloading...\n",
            "From: https://drive.google.com/uc?id=17jJQwXjV5DAEGI65CBRIIyQQSkrlrajn\n",
            "To: /content/datasets_by_sasha/ГенДиректора/secretmag.csv\n",
            "100%|██████████| 4.93M/4.93M [00:00<00:00, 205MB/s]\n",
            "Downloading...\n",
            "From: https://drive.google.com/uc?id=12RawUV0LQc8mqtA1YGjU6jAT3kkX2xpw\n",
            "To: /content/datasets_by_sasha/ГенДиректора/svoedelo.csv\n",
            "100%|██████████| 1.00M/1.00M [00:00<00:00, 73.9MB/s]\n",
            "Downloading...\n",
            "From: https://drive.google.com/uc?id=18kytmV4zlTG3AKXp6Vqaqp7eKLggUQEm\n",
            "To: /content/datasets_by_sasha/ГенДиректора/tinkoffjournal.csv\n",
            "100%|██████████| 18.4M/18.4M [00:00<00:00, 315MB/s]\n",
            "Download completed\n"
          ]
        },
        {
          "output_type": "execute_result",
          "data": {
            "text/plain": [
              "['datasets_by_sasha/Бухгалтеры/buh.csv',\n",
              " 'datasets_by_sasha/ГенДиректора/avenuenews.csv',\n",
              " 'datasets_by_sasha/ГенДиректора/economika.csv',\n",
              " 'datasets_by_sasha/ГенДиректора/mislinemisli.csv',\n",
              " 'datasets_by_sasha/ГенДиректора/secretmag.csv',\n",
              " 'datasets_by_sasha/ГенДиректора/svoedelo.csv',\n",
              " 'datasets_by_sasha/ГенДиректора/tinkoffjournal.csv']"
            ]
          },
          "metadata": {},
          "execution_count": 92
        }
      ]
    },
    {
      "cell_type": "code",
      "source": [
        "#ссылки на папку загрузки обработанных данных\n",
        "google_disk_dir_processed_accountant_path = '/content/drive/MyDrive/VTB hack/Обработанные данные/processed_бухгалтера/'\n",
        "google_disk_dir_processed_ceo_path = '/content/drive/MyDrive/VTB hack/Обработанные данные/processed_директора/'"
      ],
      "metadata": {
        "id": "jzVq6ir83rVs"
      },
      "execution_count": 93,
      "outputs": []
    },
    {
      "cell_type": "code",
      "source": [
        "# Функции для преобразование колонки даты\n",
        "def get_month(month_string):\n",
        "  d = {'декабря':12,'января':1,'февраля':2,'марта':3,'апреля':4,'мая':5,'июня':6,'июля':7,'августа':8,'сентября':9,'октября':10,\\\n",
        "   'ноября':11}\n",
        "  #if type(month_string) != 'str':\n",
        "    #print(month_string)\n",
        "  if type(month_string) is str:\n",
        "    return d[month_string]\n",
        "  else:\n",
        "    return month_string\n",
        "def convert(date_string_list):\n",
        "  s = date_string_list\n",
        "  return datetime.strptime(s[0] +'-'+ str(get_month(s[1])) +'-'+ s[2], '%d-%m-%Y')\n",
        "\n",
        "# фильтрация контента по длине новости\n",
        "def filter_contet_by_len(df, top_threshold = 700, bot_threshold = 100):\n",
        "  mask_of_len = (df['content'].apply(str.split).apply(len) < top_threshold) & (df['content'].apply(str.split).apply(len) > bot_threshold)\n",
        "  df = df.loc[mask_of_len,:]\n",
        "  return df\n",
        "\n",
        "#Сохранение только букв, цифр и знаков препинания\n",
        "def clean_string(raw_html):\n",
        "  CLEANR = re.compile(\"[^A-Za-z0-9А-Яа-я' ' '.' ',' '!' '?']\")\n",
        "  return re.sub(CLEANR, '', raw_html)\n"
      ],
      "metadata": {
        "id": "j91aOmWqjJl0"
      },
      "execution_count": 94,
      "outputs": []
    },
    {
      "cell_type": "code",
      "source": [
        "import seaborn as sns\n",
        "import matplotlib.pyplot as plt\n",
        "%matplotlib inline\n",
        "def plot_lengths_hist(series_of_content, xtick = np.arange(0,6000,250) ):\n",
        "  #sns.histplot(data = series_of_content.apply(lambda x: len(str(x).split())) )\n",
        "  plt.figure(figsize=(35,20))\n",
        "  plt.hist(series_of_content.apply(lambda x: len(str(x).split())), bins = 'auto')\n",
        "  plt.xticks(xtick)\n",
        "  plt.show()"
      ],
      "metadata": {
        "id": "RA0GjJ_19mxe"
      },
      "execution_count": 95,
      "outputs": []
    },
    {
      "cell_type": "markdown",
      "source": [
        "# Обработка гендиректоров"
      ],
      "metadata": {
        "id": "uvbzHxJuE5Cr"
      }
    },
    {
      "cell_type": "markdown",
      "source": [
        "## secretmag"
      ],
      "metadata": {
        "id": "YuTSaoIoKber"
      }
    },
    {
      "cell_type": "code",
      "source": [
        "df = pd.read_csv('/content/datasets_by_sasha/ГенДиректора/secretmag.csv')\n",
        "df = df.dropna()\n",
        "df.loc[:, 'content'] = df.loc[:, 'content'].apply(clean_string)\n",
        "df.loc[:, 'title'] = df.loc[:, 'title'].apply(clean_string)"
      ],
      "metadata": {
        "id": "SW93mzQp4bc5"
      },
      "execution_count": 96,
      "outputs": []
    },
    {
      "cell_type": "code",
      "source": [
        "df.loc[:,'date'] = df['date'].apply(str.split).apply(lambda x: x[1:]).apply(convert)"
      ],
      "metadata": {
        "id": "gyWzCWdi65ou"
      },
      "execution_count": 97,
      "outputs": []
    },
    {
      "cell_type": "code",
      "source": [
        "df.loc[:,'content'] = df['content'].apply(lambda x: x[:x.find('Коллаж:')])\n",
        "df.loc[:, 'content'] = df['content'].apply(lambda x: x[:x.find('Фото:')])"
      ],
      "metadata": {
        "id": "wclgWNum7uul"
      },
      "execution_count": 98,
      "outputs": []
    },
    {
      "cell_type": "code",
      "source": [
        "df = filter_contet_by_len(df)"
      ],
      "metadata": {
        "id": "MxYYtTZf5pSO"
      },
      "execution_count": 99,
      "outputs": []
    },
    {
      "cell_type": "code",
      "source": [
        "df['content'].apply(lambda x: len(x.split())).sort_values()"
      ],
      "metadata": {
        "colab": {
          "base_uri": "https://localhost:8080/"
        },
        "id": "VdPw1ZU7zEe0",
        "outputId": "b41bf236-81a3-491e-fc2b-48be89c0cb6f"
      },
      "execution_count": 100,
      "outputs": [
        {
          "output_type": "execute_result",
          "data": {
            "text/plain": [
              "763     130\n",
              "217     131\n",
              "1011    137\n",
              "1009    139\n",
              "423     139\n",
              "       ... \n",
              "154     664\n",
              "631     668\n",
              "1057    670\n",
              "634     677\n",
              "72      693\n",
              "Name: content, Length: 515, dtype: int64"
            ]
          },
          "metadata": {},
          "execution_count": 100
        }
      ]
    },
    {
      "cell_type": "code",
      "source": [
        "plot_lengths_hist(df['content'])"
      ],
      "metadata": {
        "colab": {
          "base_uri": "https://localhost:8080/",
          "height": 54
        },
        "id": "yuyOLOGGJPqW",
        "outputId": "8f5a43b3-3058-42cf-a446-bb4fe842b41e"
      },
      "execution_count": 101,
      "outputs": [
        {
          "output_type": "display_data",
          "data": {
            "text/plain": [
              "<Figure size 2520x1440 with 1 Axes>"
            ],
            "image/png": "[encoded data removed]"
          },
          "metadata": {
            "needs_background": "light"
          }
        }
      ]
    },
    {
      "cell_type": "code",
      "source": [
        "df.to_csv(google_disk_dir_processed_ceo_path + 'secretmag_processed.csv')"
      ],
      "metadata": {
        "id": "-N6P5B3n97a6"
      },
      "execution_count": 102,
      "outputs": []
    },
    {
      "cell_type": "markdown",
      "source": [
        "## tinkoffjournal"
      ],
      "metadata": {
        "id": "VEaHDB9RKgi6"
      }
    },
    {
      "cell_type": "code",
      "source": [
        "df = pd.read_csv('/content/datasets_by_sasha/ГенДиректора/tinkoffjournal.csv')\n",
        "df = df.dropna()\n",
        "df.loc[:, 'content'] = df.loc[:, 'content'].apply(clean_string)\n",
        "df.loc[:, 'title'] = df.loc[:, 'title'].apply(clean_string)"
      ],
      "metadata": {
        "id": "f7MvRnrj-Lg3"
      },
      "execution_count": 103,
      "outputs": []
    },
    {
      "cell_type": "code",
      "source": [
        "df.loc[:,'date'] = pd.to_datetime(df['date'], format = '%d.%m.%y')\n"
      ],
      "metadata": {
        "id": "QaULv-LiR86e"
      },
      "execution_count": 104,
      "outputs": []
    },
    {
      "cell_type": "code",
      "source": [
        "plot_lengths_hist(df['content'])"
      ],
      "metadata": {
        "colab": {
          "base_uri": "https://localhost:8080/",
          "height": 54
        },
        "id": "eiehMuokKz5H",
        "outputId": "85e1d0d3-e24e-46db-e47e-d6969be3880c"
      },
      "execution_count": 105,
      "outputs": [
        {
          "output_type": "display_data",
          "data": {
            "text/plain": [
              "<Figure size 2520x1440 with 1 Axes>"
            ],
            "image/png": "[encoded data removed]"
          },
          "metadata": {
            "needs_background": "light"
          }
        }
      ]
    },
    {
      "cell_type": "code",
      "source": [
        "mask_subscribe = df['content'].apply(lambda x : 'Подписывайтесь' in x)"
      ],
      "metadata": {
        "id": "0iXfZH4yMYJf"
      },
      "execution_count": 106,
      "outputs": []
    },
    {
      "cell_type": "code",
      "source": [
        "df.loc[:, 'content'] = df['content'].apply(lambda x: x[:x.find('Подписывайтесь')])\n",
        "df = filter_contet_by_len(df)"
      ],
      "metadata": {
        "id": "iu91G5aNMxXz"
      },
      "execution_count": 107,
      "outputs": []
    },
    {
      "cell_type": "code",
      "source": [
        "df.loc[:, 'content'].apply(lambda x: len(x.split())).sort_values()"
      ],
      "metadata": {
        "colab": {
          "base_uri": "https://localhost:8080/"
        },
        "id": "AzWnWtJnRO0e",
        "outputId": "8a19a624-7154-4b62-9408-66c23fc5795f"
      },
      "execution_count": 108,
      "outputs": [
        {
          "output_type": "execute_result",
          "data": {
            "text/plain": [
              "456    101\n",
              "750    102\n",
              "271    102\n",
              "143    102\n",
              "514    103\n",
              "      ... \n",
              "248    687\n",
              "643    688\n",
              "739    689\n",
              "35     690\n",
              "123    694\n",
              "Name: content, Length: 230, dtype: int64"
            ]
          },
          "metadata": {},
          "execution_count": 108
        }
      ]
    },
    {
      "cell_type": "code",
      "source": [
        "df.loc[456, 'content']"
      ],
      "metadata": {
        "colab": {
          "base_uri": "https://localhost:8080/",
          "height": 1000
        },
        "id": "FE1ok5BN5vBK",
        "outputId": "41aede5c-39d3-4bc5-b742-b67eca4fd943"
      },
      "execution_count": 109,
      "outputs": [
        {
          "output_type": "execute_result",
          "data": {
            "text/plain": [
              "'Инстаграм выпустил обновление для бизнесаккаунтов вприложении появился раздел сподборками продвигаемых постов отпохожих аккаунтов.Тоесть можно посмотреть, какие посты рекламируют конкуренты.Как попасть вновый раздел. Нужно обновить приложение, зайти вовкладку спрофилем, нажать накнопку Посмотреть профессиональные ресурсы наверху. После нажать наКак компании находят клиентов.Источник Инстаграм Откроется раздел сдвумя подборкамиНакаждый пост можно нажать, посмотреть, как онвыглядит вленте исколько набрал лайков икомментариев отпользователей.Создатели сервиса считают, что новый инструмент поможет бизнесаккаунтам увидеть, как похожие проекты развиваются ивзаимодействуют спользователями. Комуто это может помочь найти вдохновение, чтобы создавать ирекламировать свой контент. Кроме того, Инстаграм расширил раздел статистики теперь вбизнесаккаунтах иаккаунтах авторов можно изучить данные запрошедшие 60дней, анеза30, как было раньше'"
            ],
            "application/vnd.google.colaboratory.intrinsic+json": {
              "type": "string"
            }
          },
          "metadata": {},
          "execution_count": 109
        }
      ]
    },
    {
      "cell_type": "code",
      "source": [
        "df.to_csv(google_disk_dir_processed_ceo_path + 'tinkoffjournal_processed.csv')"
      ],
      "metadata": {
        "id": "eNQ8Oa2xLAZY"
      },
      "execution_count": 110,
      "outputs": []
    },
    {
      "cell_type": "markdown",
      "source": [
        "## mislinemisli tg"
      ],
      "metadata": {
        "id": "kM-PFbt4OJz3"
      }
    },
    {
      "cell_type": "code",
      "source": [
        "df = pd.read_csv('/content/datasets_by_sasha/ГенДиректора/mislinemisli.csv', index_col=[0])\n",
        "df = df.dropna()\n",
        "df.loc[:, 'content'] = df.loc[:, 'content'].apply(clean_string)\n",
        "df.loc[:, 'title'] = df.loc[:, 'title'].apply(clean_string)"
      ],
      "metadata": {
        "colab": {
          "base_uri": "https://localhost:8080/"
        },
        "id": "RvhtZPO5PjMd",
        "outputId": "2cb67232-cb1e-4be3-ebe5-a1e1b6097cb2"
      },
      "execution_count": 111,
      "outputs": [
        {
          "output_type": "stream",
          "name": "stderr",
          "text": [
            "/usr/local/lib/python3.7/dist-packages/pandas/core/indexing.py:1951: SettingWithCopyWarning: \n",
            "A value is trying to be set on a copy of a slice from a DataFrame.\n",
            "Try using .loc[row_indexer,col_indexer] = value instead\n",
            "\n",
            "See the caveats in the documentation: https://pandas.pydata.org/pandas-docs/stable/user_guide/indexing.html#returning-a-view-versus-a-copy\n",
            "  self.obj[selected_item_labels] = value\n"
          ]
        }
      ]
    },
    {
      "cell_type": "code",
      "source": [
        "df.loc[:, 'date'] = pd.to_datetime(df['date'].apply(lambda x: x.split(' ')[0]))"
      ],
      "metadata": {
        "id": "h2UXnxW5Q39i"
      },
      "execution_count": 112,
      "outputs": []
    },
    {
      "cell_type": "code",
      "source": [
        "df = filter_contet_by_len(df)\n",
        "plot_lengths_hist(df['content'])"
      ],
      "metadata": {
        "colab": {
          "base_uri": "https://localhost:8080/",
          "height": 54
        },
        "id": "BAxj2cjrUOhe",
        "outputId": "1d131eca-2062-4e3e-b47c-bbea07aeda7c"
      },
      "execution_count": 113,
      "outputs": [
        {
          "output_type": "display_data",
          "data": {
            "text/plain": [
              "<Figure size 2520x1440 with 1 Axes>"
            ],
            "image/png": "[encoded data removed]"
          },
          "metadata": {
            "needs_background": "light"
          }
        }
      ]
    },
    {
      "cell_type": "code",
      "source": [
        "df.to_csv(google_disk_dir_processed_ceo_path + 'mislinemisli_processed_tg.csv')"
      ],
      "metadata": {
        "id": "BEtLoCcEWJyK"
      },
      "execution_count": 114,
      "outputs": []
    },
    {
      "cell_type": "markdown",
      "source": [
        "## economika tg"
      ],
      "metadata": {
        "id": "8Ol5a6R1WZEk"
      }
    },
    {
      "cell_type": "code",
      "source": [
        "df = pd.read_csv('/content/datasets_by_sasha/ГенДиректора/economika.csv', index_col=[0])\n",
        "df = df.dropna()\n",
        "df.loc[:, 'content'] = df.loc[:, 'content'].apply(clean_string)\n",
        "df.loc[:, 'title'] = df.loc[:, 'title'].apply(clean_string)"
      ],
      "metadata": {
        "id": "rOzB_wNrWdq0"
      },
      "execution_count": 115,
      "outputs": []
    },
    {
      "cell_type": "code",
      "source": [
        "df.loc[:, 'date'] = pd.to_datetime(df['date'].apply(lambda x: x.split(' ')[0]))"
      ],
      "metadata": {
        "id": "zX9vX3U4WrVJ"
      },
      "execution_count": 116,
      "outputs": []
    },
    {
      "cell_type": "code",
      "source": [
        "df = filter_contet_by_len(df)\n",
        "plot_lengths_hist(df['content'])\n"
      ],
      "metadata": {
        "colab": {
          "base_uri": "https://localhost:8080/",
          "height": 54
        },
        "id": "zGm23ELzWtp-",
        "outputId": "d15adaf8-1481-43aa-c31c-a926362b567a"
      },
      "execution_count": 117,
      "outputs": [
        {
          "output_type": "display_data",
          "data": {
            "text/plain": [
              "<Figure size 2520x1440 with 1 Axes>"
            ],
            "image/png": "[encoded data removed]"
          },
          "metadata": {
            "needs_background": "light"
          }
        }
      ]
    },
    {
      "cell_type": "code",
      "source": [
        "df['content'].apply(lambda x: len(x.split())).sort_values()"
      ],
      "metadata": {
        "colab": {
          "base_uri": "https://localhost:8080/"
        },
        "id": "oCMyZ_7C_twV",
        "outputId": "eeccd064-7471-4b75-aff5-f19d67a7d5e5"
      },
      "execution_count": 118,
      "outputs": [
        {
          "output_type": "execute_result",
          "data": {
            "text/plain": [
              "9996    101\n",
              "4045    101\n",
              "8281    101\n",
              "3770    101\n",
              "8565    101\n",
              "       ... \n",
              "7175    521\n",
              "4149    526\n",
              "372     527\n",
              "3574    541\n",
              "5506    545\n",
              "Name: content, Length: 1173, dtype: int64"
            ]
          },
          "metadata": {},
          "execution_count": 118
        }
      ]
    },
    {
      "cell_type": "code",
      "source": [
        "df['content'].apply(lambda x: x).loc[4045]"
      ],
      "metadata": {
        "colab": {
          "base_uri": "https://localhost:8080/",
          "height": 1000
        },
        "id": "MGYVP6GsXFYM",
        "outputId": "a020b3e3-2151-4473-eb12-9b27c1abacc1"
      },
      "execution_count": 119,
      "outputs": [
        {
          "output_type": "execute_result",
          "data": {
            "text/plain": [
              "'Я исхожу из того, что в следующий газовый год мы войдем с относительно низким уровнем объема газа в хранилищах, поэтому на эту зиму я бы поставил на высокие цены на газ, я думаю, они сохранятся,  сказал он.По его словам, рекордный уровень цен на газ даже летом объясняется аномально низкими температурами в начале 2021 года. Вопервых, это была необычно холодная зима. Даже в апреле и мае температуры были на самом низком уровне за последние 3040 лет. И именно поэтому, кстати говоря, текущие объемы газа в хранилищах меньше объемов прошлых лет. У нас было на один месяц меньше для заполнения хранилищ,  отметил Зеле.'"
            ],
            "application/vnd.google.colaboratory.intrinsic+json": {
              "type": "string"
            }
          },
          "metadata": {},
          "execution_count": 119
        }
      ]
    },
    {
      "cell_type": "code",
      "source": [
        "df.to_csv(google_disk_dir_processed_ceo_path + 'economika_processed_tg.csv')"
      ],
      "metadata": {
        "id": "iq7bEDB6YHfr"
      },
      "execution_count": 120,
      "outputs": []
    },
    {
      "cell_type": "markdown",
      "source": [
        "## svoedelo"
      ],
      "metadata": {
        "id": "w_D0NDDeBAnp"
      }
    },
    {
      "cell_type": "code",
      "source": [
        "df = pd.read_csv('/content/datasets_by_sasha/ГенДиректора/svoedelo.csv')\n",
        "df = df.dropna()\n",
        "df.loc[:, 'content'] = df.loc[:, 'content'].apply(clean_string)\n",
        "df.loc[:, 'title'] = df.loc[:, 'title'].apply(clean_string)"
      ],
      "metadata": {
        "id": "QRaVimLwA4Ps"
      },
      "execution_count": 121,
      "outputs": []
    },
    {
      "cell_type": "code",
      "source": [
        "df.loc[:, 'date'] = pd.to_datetime(df['date'])"
      ],
      "metadata": {
        "id": "aG3AoaY7Bf3E"
      },
      "execution_count": 122,
      "outputs": []
    },
    {
      "cell_type": "code",
      "source": [
        "df = filter_contet_by_len(df, top_threshold = 700)"
      ],
      "metadata": {
        "id": "0eAjhPPLBtwM"
      },
      "execution_count": 123,
      "outputs": []
    },
    {
      "cell_type": "code",
      "source": [
        "df.loc[:, 'content'] = df['content'].apply(lambda x: x.replace('liliaagarkova17gmail.com', ' '))"
      ],
      "metadata": {
        "id": "D15lTFWtCqfD"
      },
      "execution_count": 124,
      "outputs": []
    },
    {
      "cell_type": "code",
      "source": [
        "df.to_csv(google_disk_dir_processed_ceo_path + 'svoedelo_processed.csv')"
      ],
      "metadata": {
        "id": "EPSSJ06CDEtb"
      },
      "execution_count": 125,
      "outputs": []
    },
    {
      "cell_type": "markdown",
      "source": [
        "## avenuenews tg"
      ],
      "metadata": {
        "id": "2jvC1D1BDW9n"
      }
    },
    {
      "cell_type": "code",
      "source": [
        "df = pd.read_csv('/content/datasets_by_sasha/ГенДиректора/avenuenews.csv', index_col=[0])\n",
        "df = df.dropna()\n",
        "df.loc[:, 'content'] = df.loc[:, 'content'].apply(clean_string)\n",
        "df.loc[:, 'title'] = df.loc[:, 'title'].apply(clean_string)"
      ],
      "metadata": {
        "id": "6r8lpOWcDPHF"
      },
      "execution_count": 126,
      "outputs": []
    },
    {
      "cell_type": "code",
      "source": [
        "df.loc[:, 'date'] = pd.to_datetime(df['date'].apply(lambda x: x.split()[0]))"
      ],
      "metadata": {
        "id": "F4C3y0xeDsUx"
      },
      "execution_count": 127,
      "outputs": []
    },
    {
      "cell_type": "code",
      "source": [
        "df = filter_contet_by_len(df)"
      ],
      "metadata": {
        "id": "Yucql9GHD8KL"
      },
      "execution_count": 128,
      "outputs": []
    },
    {
      "cell_type": "code",
      "source": [
        "df.to_csv(google_disk_dir_processed_ceo_path + 'avenuenews_processed_tg.csv')"
      ],
      "metadata": {
        "id": "vPjI-w4BEe9U"
      },
      "execution_count": 129,
      "outputs": []
    },
    {
      "cell_type": "markdown",
      "source": [
        "# Обработка бухгалтеров"
      ],
      "metadata": {
        "id": "Y4qzm6p6Plp3"
      }
    },
    {
      "cell_type": "code",
      "source": [
        "url = 'https://drive.google.com/drive/folders/1MaeTquVZHQvNhezZXT5tQKY9OeG8Lm72?usp=sharing'\n",
        "folder_name = 'Данные_для_обработки'\n",
        "gdown.download_folder(url, output=folder_name)"
      ],
      "metadata": {
        "id": "XzcaZ9HXBVHz"
      },
      "execution_count": null,
      "outputs": []
    },
    {
      "cell_type": "markdown",
      "source": [
        "## buh"
      ],
      "metadata": {
        "id": "Ws4u6EA2gp8O"
      }
    },
    {
      "cell_type": "code",
      "source": [
        "df = pd.read_csv('/content/datasets_by_sasha/Бухгалтеры/buh.csv')\n",
        "df = df.dropna()\n",
        "df.loc[:, 'content'] = df.loc[:, 'content'].apply(clean_string)\n",
        "df.loc[:, 'title'] = df.loc[:, 'title'].apply(clean_string)"
      ],
      "metadata": {
        "id": "GdOmIWl0WRvc"
      },
      "execution_count": 131,
      "outputs": []
    },
    {
      "cell_type": "code",
      "source": [
        "df.loc[:, 'date'] = pd.to_datetime(df['date'])"
      ],
      "metadata": {
        "id": "NO6OxIZSdpjL"
      },
      "execution_count": 132,
      "outputs": []
    },
    {
      "cell_type": "code",
      "source": [
        "df.loc[:, 'content'] = df['content'].apply(lambda x: x[:x.find('Следить за новостями удобно в нашем')])"
      ],
      "metadata": {
        "id": "E9-EXA2QAJbM"
      },
      "execution_count": 133,
      "outputs": []
    },
    {
      "cell_type": "code",
      "source": [
        "df = filter_contet_by_len(df)\n",
        "plot_lengths_hist(df['content'])"
      ],
      "metadata": {
        "colab": {
          "base_uri": "https://localhost:8080/",
          "height": 54
        },
        "id": "2wh-yGrdeDWB",
        "outputId": "533d0faf-048a-439d-acd2-989413802392"
      },
      "execution_count": 134,
      "outputs": [
        {
          "output_type": "display_data",
          "data": {
            "text/plain": [
              "<Figure size 2520x1440 with 1 Axes>"
            ],
            "image/png": "[encoded data removed]"
          },
          "metadata": {
            "needs_background": "light"
          }
        }
      ]
    },
    {
      "cell_type": "code",
      "source": [
        "df.to_csv(google_disk_dir_processed_accountant_path + 'buh_processed.csv')"
      ],
      "metadata": {
        "id": "iRBvvf0gga-e"
      },
      "execution_count": 135,
      "outputs": []
    },
    {
      "cell_type": "markdown",
      "source": [
        "## glavkniga"
      ],
      "metadata": {
        "id": "Et8wWKdEKjXy"
      }
    },
    {
      "cell_type": "code",
      "source": [],
      "metadata": {
        "id": "H150ZIxHBT9L"
      },
      "execution_count": 135,
      "outputs": []
    },
    {
      "cell_type": "code",
      "source": [
        "full_df = pd.read_csv('/content/Данные_для_обработки/data_from_glavkniga_2part.csv', index_col = 0)\n",
        "full_df = full_df.dropna()\n",
        "full_df.loc[:, 'content'] = full_df.loc[:, 'content'].apply(clean_string)\n",
        "full_df.loc[:, 'title'] = full_df.loc[:, 'title'].apply(clean_string)\n",
        "\n",
        "#Обработка поля date\n",
        "mask_of_bad_date = full_df['date'].apply(str.split).apply(len) == 2\n",
        "full_df.loc[mask_of_bad_date,'date'] = full_df[mask_of_bad_date]['date'].apply(lambda x : x + ' ' + str(2022))\n",
        "full_df.loc[:,'date'] = full_df['date'].apply(str.split).apply(convert)\n",
        "\n",
        "# Удаление мусорных слов в конце новости\n",
        "full_df.loc[:,'content'] = full_df['content'].apply(lambda x: x[:x.find('письмо', len(x)-80)])\n",
        "full_df.loc[:,'content'] = full_df['content'].apply(lambda x: x[:x.find('Письмо', len(x)-80)])\n",
        "full_df.loc[:,'content'] = full_df['content'].apply(lambda x: x[:x.find('читайте в', len(x)-80)])\n",
        "\n",
        "full_df = filter_contet_by_len(full_df)\n",
        "full_df.to_csv(google_disk_dir_processed_accountant_path + 'data_from_glavkniga_processed.csv') "
      ],
      "metadata": {
        "id": "UQSYE1S9Kifa"
      },
      "execution_count": 136,
      "outputs": []
    },
    {
      "cell_type": "markdown",
      "source": [
        "## mytar tg"
      ],
      "metadata": {
        "id": "svWcz2ahMpH3"
      }
    },
    {
      "cell_type": "code",
      "source": [
        "df = pd.read_csv('/content/Данные_для_обработки/mytar.csv', index_col = [0])\n",
        "df = df.dropna()\n",
        "df.loc[:, 'content'] = df.loc[:, 'content'].apply(clean_string)\n",
        "df.loc[:, 'title'] = df.loc[:, 'title'].apply(clean_string)"
      ],
      "metadata": {
        "id": "gUGFf6POM9vC"
      },
      "execution_count": 137,
      "outputs": []
    },
    {
      "cell_type": "code",
      "source": [
        "df.loc[:, 'date'] = pd.to_datetime(df['date'].apply(lambda x: x.split()[0]))"
      ],
      "metadata": {
        "id": "5mloYKwoNXjW"
      },
      "execution_count": 138,
      "outputs": []
    },
    {
      "cell_type": "code",
      "source": [
        "df = filter_contet_by_len(df)"
      ],
      "metadata": {
        "id": "K-bJy-1PNqUU"
      },
      "execution_count": 139,
      "outputs": []
    },
    {
      "cell_type": "code",
      "source": [
        "df.to_csv(google_disk_dir_processed_accountant_path + 'mytar_processed_tg.csv')"
      ],
      "metadata": {
        "id": "Cq1L5jxYN2Ua"
      },
      "execution_count": 140,
      "outputs": []
    },
    {
      "cell_type": "markdown",
      "source": [
        "## netipichniy_buh tg"
      ],
      "metadata": {
        "id": "Un_Wy6pFOq1y"
      }
    },
    {
      "cell_type": "code",
      "source": [
        "df = pd.read_csv('/content/Данные_для_обработки/netipichniy_buh_final.csv', index_col = [0])\n",
        "df = df.dropna()\n",
        "df.loc[:, 'content'] = df.loc[:, 'content'].apply(clean_string)\n",
        "df.loc[:, 'title'] = df.loc[:, 'title'].apply(clean_string)"
      ],
      "metadata": {
        "id": "u3J68hKNOk-e"
      },
      "execution_count": 141,
      "outputs": []
    },
    {
      "cell_type": "code",
      "source": [
        "df.loc[:, 'date'] = pd.to_datetime(df['date'].apply(lambda x: x.split()[0]))"
      ],
      "metadata": {
        "id": "jVJ7BAZTO96y"
      },
      "execution_count": 142,
      "outputs": []
    },
    {
      "cell_type": "code",
      "source": [
        "plot_lengths_hist(df['content'])"
      ],
      "metadata": {
        "colab": {
          "base_uri": "https://localhost:8080/",
          "height": 54
        },
        "id": "1WrzSNwxO-sg",
        "outputId": "61966254-ff4e-439c-8296-6ac061c85139"
      },
      "execution_count": 143,
      "outputs": [
        {
          "output_type": "display_data",
          "data": {
            "text/plain": [
              "<Figure size 2520x1440 with 1 Axes>"
            ],
            "image/png": "[encoded data removed]"
          },
          "metadata": {
            "needs_background": "light"
          }
        }
      ]
    },
    {
      "cell_type": "code",
      "source": [
        "df = filter_contet_by_len(df)"
      ],
      "metadata": {
        "id": "IfEHxQrOPHOz"
      },
      "execution_count": 144,
      "outputs": []
    },
    {
      "cell_type": "code",
      "source": [
        "df.to_csv(google_disk_dir_processed_accountant_path + 'netipichniy_buh_final_processed_tg.csv')"
      ],
      "metadata": {
        "id": "IVC3Swp1PLY1"
      },
      "execution_count": 145,
      "outputs": []
    },
    {
      "cell_type": "markdown",
      "source": [
        "# Функция выдачи от временнного отрезка"
      ],
      "metadata": {
        "id": "Wqj0fjn0QijN"
      }
    },
    {
      "cell_type": "code",
      "source": [
        "def get_data_by_period(df, left_data_string = None, right_data_string = None):\n",
        "  df.loc[:, 'date'] = pd.to_datetime(df['date'])\n",
        "  mask = (df['date'] > pd.to_datetime(left_data_string)) & (df['date'] < pd.to_datetime(right_data_string))\n",
        "  return df.loc[mask,:]"
      ],
      "metadata": {
        "id": "fo_oJsTuQvP7"
      },
      "execution_count": 4,
      "outputs": []
    },
    {
      "cell_type": "markdown",
      "source": [
        "# Закачка всех processed данных"
      ],
      "metadata": {
        "id": "FeRVxFkOgtyl"
      }
    },
    {
      "cell_type": "code",
      "source": [
        "import gdown\n",
        "url = 'https://drive.google.com/drive/folders/1Tt1TFPPicXWx6PvWSKJcgtsZ2V2Z0sA0?usp=sharing'\n",
        "folder_name = 'datasets_processed_by_Roma'\n",
        "gdown.download_folder(url, output=folder_name)"
      ],
      "metadata": {
        "id": "MMXxC1bWb82W"
      },
      "execution_count": null,
      "outputs": []
    },
    {
      "cell_type": "code",
      "source": [
        "import os\n",
        "def get_concated_df(dir_path_to_merge):\n",
        "  csv_s = [i for i in os.listdir(dir_path_to_merge) if '.csv' in i]\n",
        "  csv_paths = []\n",
        "  for filename in csv_s:\n",
        "    csv_paths.append(os.path.join(dir_path_to_merge, filename))\n",
        "  dfs_to_concat = []\n",
        "  for i in csv_paths:\n",
        "    dfs_to_concat.append(pd.read_csv(i, index_col = [0]))\n",
        "  concated_df = pd.concat(dfs_to_concat, axis = 0)\n",
        "  return concated_df"
      ],
      "metadata": {
        "id": "60uYT_5Demd5"
      },
      "execution_count": 148,
      "outputs": []
    },
    {
      "cell_type": "code",
      "source": [
        "ceo_dir = '/content/datasets_processed_by_Roma/processed_директора'\n",
        "acc_dir = '/content/datasets_processed_by_Roma/processed_бухгалтера'"
      ],
      "metadata": {
        "id": "5XxWVAGjH23H"
      },
      "execution_count": 155,
      "outputs": []
    },
    {
      "cell_type": "markdown",
      "source": [
        "## Concat и отправка директоров"
      ],
      "metadata": {
        "id": "T_t4OUshQKSN"
      }
    },
    {
      "cell_type": "code",
      "source": [
        "ceo_df_concated = get_concated_df(ceo_dir)\n",
        "plot_lengths_hist(ceo_df_concated['content'], xtick = np.arange(0,700,100))"
      ],
      "metadata": {
        "colab": {
          "base_uri": "https://localhost:8080/",
          "height": 920
        },
        "id": "YUDVYvTJIB0j",
        "outputId": "e02ca624-ad47-4235-acee-19dabcaaa776"
      },
      "execution_count": 156,
      "outputs": [
        {
          "output_type": "display_data",
          "data": {
            "text/plain": [
              "<Figure size 2520x1440 with 1 Axes>"
            ],
            "image/png": "[encoded data removed]"
          },
          "metadata": {
            "needs_background": "light"
          }
        }
      ]
    },
    {
      "cell_type": "code",
      "source": [
        "ceo_df_concated.loc[:, 'date'] = pd.to_datetime(ceo_df_concated['date'])"
      ],
      "metadata": {
        "id": "Lzoa-IrBRNoS"
      },
      "execution_count": 157,
      "outputs": []
    },
    {
      "cell_type": "code",
      "source": [
        "ceo_df_concated['content'].drop_duplicates(inplace = True)\n",
        "ceo_df_concated.drop_duplicates(inplace = True)"
      ],
      "metadata": {
        "id": "-Hb7lPRoZ6e6"
      },
      "execution_count": 158,
      "outputs": []
    },
    {
      "cell_type": "code",
      "source": [
        "ceo_df_concated = ceo_df_concated.dropna()\n",
        "ceo_df_concated.isna().sum()"
      ],
      "metadata": {
        "colab": {
          "base_uri": "https://localhost:8080/"
        },
        "id": "jYcHeN8v4CTg",
        "outputId": "f4cf422c-296f-4459-bf9d-594d07c62178"
      },
      "execution_count": 159,
      "outputs": [
        {
          "output_type": "execute_result",
          "data": {
            "text/plain": [
              "title      0\n",
              "content    0\n",
              "date       0\n",
              "dtype: int64"
            ]
          },
          "metadata": {},
          "execution_count": 159
        }
      ]
    },
    {
      "cell_type": "code",
      "source": [
        "ceo_df_concated.loc[:, 'content'] = ceo_df_concated['title'] + ' ' + ceo_df_concated['content']\n"
      ],
      "metadata": {
        "id": "FBz4qlXg5uW2"
      },
      "execution_count": 160,
      "outputs": []
    },
    {
      "cell_type": "code",
      "source": [
        "ceo_df_concated.to_csv('/content/drive/MyDrive/VTB hack/ceo_data_processed.csv')"
      ],
      "metadata": {
        "id": "c9n7ahwQmFD1"
      },
      "execution_count": 161,
      "outputs": []
    },
    {
      "cell_type": "markdown",
      "source": [
        "## Concat и отправка бухгалтеров"
      ],
      "metadata": {
        "id": "YFFQ9tfdQP5H"
      }
    },
    {
      "cell_type": "code",
      "source": [
        "acc_df_concated = get_concated_df(acc_dir)\n",
        "plot_lengths_hist(acc_df_concated['content'], xtick = np.arange(0,700,100))"
      ],
      "metadata": {
        "colab": {
          "base_uri": "https://localhost:8080/",
          "height": 54
        },
        "id": "A9bP29RbIX-g",
        "outputId": "33e602e1-e74f-4058-c1bf-8421af25b24b"
      },
      "execution_count": 162,
      "outputs": [
        {
          "output_type": "display_data",
          "data": {
            "text/plain": [
              "<Figure size 2520x1440 with 1 Axes>"
            ],
            "image/png": "[encoded data removed]"
          },
          "metadata": {
            "needs_background": "light"
          }
        }
      ]
    },
    {
      "cell_type": "code",
      "source": [
        "acc_df_concated.loc[:, 'date'] = pd.to_datetime(acc_df_concated['date'])"
      ],
      "metadata": {
        "id": "CHV_zWCaI4G9"
      },
      "execution_count": 163,
      "outputs": []
    },
    {
      "cell_type": "code",
      "source": [
        "acc_df_concated['content'].drop_duplicates(inplace = True)\n",
        "acc_df_concated.drop_duplicates(inplace = True)"
      ],
      "metadata": {
        "id": "xCIq13dXaK0e"
      },
      "execution_count": 164,
      "outputs": []
    },
    {
      "cell_type": "code",
      "source": [
        "acc_df_concated = acc_df_concated.dropna()\n",
        "acc_df_concated.isna().sum()"
      ],
      "metadata": {
        "colab": {
          "base_uri": "https://localhost:8080/"
        },
        "id": "3oedEW8V4MV_",
        "outputId": "9489bddc-82bc-4354-c996-74bc53697906"
      },
      "execution_count": 165,
      "outputs": [
        {
          "output_type": "execute_result",
          "data": {
            "text/plain": [
              "title      0\n",
              "content    0\n",
              "date       0\n",
              "dtype: int64"
            ]
          },
          "metadata": {},
          "execution_count": 165
        }
      ]
    },
    {
      "cell_type": "code",
      "source": [
        "acc_df_concated.loc[:, 'content'] = acc_df_concated['title'] + ' ' + acc_df_concated['content']\n",
        "acc_df_concated = acc_df_concated.drop(columns = ['title'])"
      ],
      "metadata": {
        "id": "bBOEDwya6IHL"
      },
      "execution_count": 166,
      "outputs": []
    },
    {
      "cell_type": "code",
      "source": [
        "acc_df_concated.to_csv('/content/drive/MyDrive/VTB hack/acc_data_processed.csv')"
      ],
      "metadata": {
        "id": "6xV7PKlYIeIf"
      },
      "execution_count": 167,
      "outputs": []
    },
    {
      "cell_type": "markdown",
      "source": [
        "## Графики"
      ],
      "metadata": {
        "id": "0FjrqLajmDdt"
      }
    },
    {
      "cell_type": "code",
      "source": [
        "def Get_pie_graph(dir_path, path_to_save_png):\n",
        "  #рисуем график количества новостей для каждого сайта\n",
        "  csv_s = [i for i in os.listdir(dir_path) if '.csv' in i]\n",
        "  csv_paths = []\n",
        "  for filename in csv_s:\n",
        "    csv_paths.append(os.path.join(dir_path, filename))\n",
        "  tg_mask = ['_tg' in i for i in csv_paths]\n",
        "\n",
        "  shapes = []\n",
        "  for i in csv_paths:\n",
        "    df = pd.read_csv(i, index_col = [0])\n",
        "    shapes.append(df.shape[0])\n",
        "  df = pd.concat([pd.Series(csv_paths),pd.Series(shapes), pd.Series(csv_s).apply(lambda x: x[:x.find('_')]), pd.Series(tg_mask)], axis = 1)\n",
        "  df.columns = ['full_path', 'news_amount', 'name', 'tg_mask']\n",
        "\n",
        "  fig1, ax1 = plt.subplots(figsize=(16,9))\n",
        "  colors = sns.color_palette('flare')[0:df.shape[0]]\n",
        "  textprops = {'fontsize': 18, 'color': 'white'}\n",
        "  ax1.pie(df.news_amount.values, startangle=90, colors = colors, center=(0, -2), textprops = textprops)\n",
        "  ax1.axis('equal')  \n",
        "  fig1.savefig(path_to_save_png, dpi=300, transparent=True)"
      ],
      "metadata": {
        "id": "lC6m0Z7Q3_4r"
      },
      "execution_count": null,
      "outputs": []
    },
    {
      "cell_type": "code",
      "source": [
        "Get_pie_graph(ceo_dir, path_to_save_png = 'pie_для_директоров.png')\n",
        "Get_pie_graph(acc_dir, path_to_save_png = 'pie_для_бухгалтеров.png')"
      ],
      "metadata": {
        "id": "DgaUA8OV4EWG"
      },
      "execution_count": null,
      "outputs": []
    },
    {
      "cell_type": "code",
      "source": [
        "def get_news_length_distrib_graph(df, name):\n",
        "  lengths = df['content'].apply(lambda x: len(x.split()))\n",
        "  step = 10\n",
        "  stamp = np.arange(100,700,step)\n",
        "  counts = list(map(lambda x: ((lengths >= x) & (lengths <= x + step)).sum(),stamp))\n",
        "  counts = np.asarray(counts)\n",
        "  stamp = stamp.astype(str)\n",
        "  new_stamp = []\n",
        "  for i in range(len(stamp)-1):\n",
        "    new_stamp.append(stamp[i] +'-'+ stamp[i+1])\n",
        "\n",
        "  new_stamp.append(stamp[len(stamp)-1] +'-'+ str(int(stamp[-1])+(step)))\n",
        "  new_stamp = np.asarray(new_stamp)\n",
        "\n",
        "  sns.set_theme(\n",
        "    font_scale = 2,\n",
        "    style = 'whitegrid', # ставит стиль графика, тут стоит белый с сеткой\n",
        "    rc = {'figure.figsize' : (20, 7)}\n",
        "  )\n",
        "  plt.rcParams['font.size'] = '6'\n",
        "  ax = sns.barplot(x = new_stamp, y = counts, palette=sns.color_palette(\"flare\"))\n",
        "  ax.tick_params(colors='white', labelsize = 15)\n",
        "  ax.set_xticklabels(ax.get_xticklabels(), rotation=45, size = 12)\n",
        "  plt.tight_layout()\n",
        "  plt.savefig(f'{name}.png', dpi=300, transparent=True)\n",
        "\n"
      ],
      "metadata": {
        "id": "qQf80l4Fz92J"
      },
      "execution_count": 192,
      "outputs": []
    },
    {
      "cell_type": "code",
      "source": [
        "get_news_length_distrib_graph(ceo_df_concated, 'ceo_news_length_disrib')\n",
        "get_news_length_distrib_graph(acc_df_concated, 'accountant_news_length_disrib')"
      ],
      "metadata": {
        "id": "ilOkFefVmSr3"
      },
      "execution_count": null,
      "outputs": []
    }
  ]
}